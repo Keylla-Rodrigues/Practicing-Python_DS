{
 "cells": [
  {
   "cell_type": "markdown",
   "id": "011ca983",
   "metadata": {},
   "source": [
    "### Condicional if"
   ]
  },
  {
   "cell_type": "code",
   "execution_count": null,
   "id": "056e254b",
   "metadata": {},
   "outputs": [],
   "source": [
    "# Condicional if\n",
    "if 10 > 2:                          # expressao if q eh verdadeira\n",
    "    print(\"Numero eh maior\")        # nesse caso so executa essa situacao if. Se for diferente n faz nada"
   ]
  },
  {
   "cell_type": "code",
   "execution_count": null,
   "id": "0a9178b2",
   "metadata": {},
   "outputs": [],
   "source": [
    "# Statment if...else\n",
    "if 10 < 2:                                      # expressao if q eh verdadeira\n",
    "    print(\"Expressao 1 eh verdadeira\")           \n",
    "else:                                           # expressao else eh executada caso a if seja falsa\n",
    "    print(\"Expressao 1 NAO eh verdadeira\")   # nesse caso o codigo executa 2 situacoes: SE e ELSE (caso contrario)"
   ]
  },
  {
   "cell_type": "code",
   "execution_count": null,
   "id": "9edb164f",
   "metadata": {},
   "outputs": [],
   "source": [
    "if 10 == 10:\n",
    "    print(\"O resultado eh igual\")"
   ]
  },
  {
   "cell_type": "code",
   "execution_count": null,
   "id": "5394bdd8",
   "metadata": {},
   "outputs": [],
   "source": [
    "if 10 == 10:\n",
    "    print(\"O resultado eh igual\")\n",
    "else:\n",
    "    print(\"Os valores sao distintos\")"
   ]
  },
  {
   "cell_type": "markdown",
   "id": "b3862895",
   "metadata": {},
   "source": [
    "### Condicionais aninhados = expressao if dentro de outra expressao if"
   ]
  },
  {
   "cell_type": "code",
   "execution_count": null,
   "id": "b74b938e",
   "metadata": {},
   "outputs": [],
   "source": [
    "age = 21\n",
    "name = \"Paul\"   \n",
    "if age > 19:\n",
    "    if name == \"Paul\":\n",
    "        print(\"Ok, Paul, voce esta autorizado a entrar\")\n",
    "else:\n",
    "    print(\"desculpe, mas vc nao esta autorizado a entrar\")"
   ]
  },
  {
   "cell_type": "code",
   "execution_count": null,
   "id": "c81fc0de",
   "metadata": {},
   "outputs": [],
   "source": [
    "age = 13                          \n",
    "name = \"Bob\"\n",
    "if age >= 13 and name == \"Bob\":       # se as 2 condicoes forem verdadeiras, o codigo executa\n",
    "        print(\"Ok Bob, voce esta autorizado a entrar\")"
   ]
  },
  {
   "cell_type": "code",
   "execution_count": null,
   "id": "a233cbf6",
   "metadata": {},
   "outputs": [],
   "source": [
    "age = 15                          \n",
    "name = \"J\"\n",
    "if (age >= 13) or (name == \"Bob\"):       # se uma ou outra condicao for verdadeira, o codigo executa\n",
    "        print(\"Ok Bob, voce esta autorizado a entrar\")\n",
    "else:\n",
    "        print(\"nao autorizado\")"
   ]
  },
  {
   "cell_type": "markdown",
   "id": "c1097236",
   "metadata": {},
   "source": [
    "### Elif"
   ]
  },
  {
   "cell_type": "code",
   "execution_count": null,
   "id": "d20ecb9c",
   "metadata": {},
   "outputs": [],
   "source": [
    "dia = \"terca\"\n",
    "if dia == \"segunda\":\n",
    "    print(\"Hoje fara sol\")\n",
    "else:\n",
    "    print(\"Hoje chovera\")"
   ]
  },
  {
   "cell_type": "code",
   "execution_count": null,
   "id": "f8fd3f1a",
   "metadata": {},
   "outputs": [],
   "source": [
    "dia = \"segunda\"\n",
    "if dia == \"segunda\":                 #  if -> expressao 1 verdadeira\n",
    "    print(\"Hoje fara sol\")\n",
    "elif dia == \"Terca\":                 # elif -> expressao 1 falsa e essa verdadeira\n",
    "    print(\"Hoje chovera\")\n",
    "else:                                # elf -> expressoes acima falsas e essa verdadeira\n",
    "    print(\"no previsao\")"
   ]
  },
  {
   "cell_type": "code",
   "execution_count": null,
   "id": "2645476e",
   "metadata": {},
   "outputs": [],
   "source": [
    "dia = \"Quarta\"\n",
    "if dia == \"segunda\":\n",
    "    print(\"Hoje fara sol\")\n",
    "elif dia == \"Terca\" or dia == \"Quinta\":\n",
    "    print(\"Previsao de chuva\")\n",
    "else:\n",
    "    print(\"no previsao\")"
   ]
  },
  {
   "cell_type": "markdown",
   "id": "e18cdc27",
   "metadata": {},
   "source": [
    "### Operadores logicos"
   ]
  },
  {
   "cell_type": "code",
   "execution_count": null,
   "id": "8ff02a43",
   "metadata": {},
   "outputs": [],
   "source": [
    "idade = 20\n",
    "if idade > 17:\n",
    "    print(\"Legally, you are under age for BC\")"
   ]
  },
  {
   "cell_type": "code",
   "execution_count": null,
   "id": "c25d04c3",
   "metadata": {},
   "outputs": [],
   "source": [
    "idade = 20\n",
    "name = \"JS\"\n",
    "if idade > 17 and name == \"JS\":\n",
    "    print(\"OK\")"
   ]
  }
 ],
 "metadata": {
  "kernelspec": {
   "display_name": "Python 3",
   "language": "python",
   "name": "python3"
  },
  "language_info": {
   "codemirror_mode": {
    "name": "ipython",
    "version": 3
   },
   "file_extension": ".py",
   "mimetype": "text/x-python",
   "name": "python",
   "nbconvert_exporter": "python",
   "pygments_lexer": "ipython3",
   "version": "3.8.8"
  }
 },
 "nbformat": 4,
 "nbformat_minor": 5
}
