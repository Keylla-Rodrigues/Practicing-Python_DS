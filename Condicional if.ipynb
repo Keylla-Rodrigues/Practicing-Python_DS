{
 "cells": [
  {
   "cell_type": "markdown",
   "id": "011ca983",
   "metadata": {},
   "source": [
    "### Condicional if"
   ]
  },
  {
   "cell_type": "code",
   "execution_count": 1,
   "id": "056e254b",
   "metadata": {},
   "outputs": [
    {
     "name": "stdout",
     "output_type": "stream",
     "text": [
      "Numero eh maior\n"
     ]
    }
   ],
   "source": [
    "# Condicional if\n",
    "if 10 > 2:                          # expressao if q eh verdadeira\n",
    "    print(\"Numero eh maior\")        # nesse caso so executa essa situacao if. Se for diferente n faz nada"
   ]
  },
  {
   "cell_type": "code",
   "execution_count": 2,
   "id": "0a9178b2",
   "metadata": {},
   "outputs": [
    {
     "name": "stdout",
     "output_type": "stream",
     "text": [
      "Expressao 1 NAO eh verdadeira\n"
     ]
    }
   ],
   "source": [
    "# Statment if...else\n",
    "if 10 < 2:                                      # expressao if q eh verdadeira\n",
    "    print(\"Expressao 1 eh verdadeira\")           \n",
    "else:                                           # expressao else eh executada caso a if seja falsa\n",
    "    print(\"Expressao 1 NAO eh verdadeira\")   # nesse caso o codigo executa 2 situacoes: SE e ELSE (caso contrario)"
   ]
  },
  {
   "cell_type": "code",
   "execution_count": 3,
   "id": "9edb164f",
   "metadata": {},
   "outputs": [
    {
     "name": "stdout",
     "output_type": "stream",
     "text": [
      "O resultado eh igual\n"
     ]
    }
   ],
   "source": [
    "if 10 == 10:\n",
    "    print(\"O resultado eh igual\")"
   ]
  },
  {
   "cell_type": "code",
   "execution_count": 4,
   "id": "5394bdd8",
   "metadata": {},
   "outputs": [
    {
     "name": "stdout",
     "output_type": "stream",
     "text": [
      "O resultado eh igual\n"
     ]
    }
   ],
   "source": [
    "if 10 == 10:\n",
    "    print(\"O resultado eh igual\")\n",
    "else:\n",
    "    print(\"Os valores sao distintos\")"
   ]
  },
  {
   "cell_type": "markdown",
   "id": "467306ce",
   "metadata": {},
   "source": [
    "### Condicionais aninhados = expressao if dentro de outra expressao if"
   ]
  },
  {
   "cell_type": "code",
   "execution_count": 5,
   "id": "3087b67a",
   "metadata": {},
   "outputs": [],
   "source": [
    "# idade = 20\n",
    "# if idade > 17:\n",
    "#     print(\"Legally, you are under age for BC\")"
   ]
  },
  {
   "cell_type": "code",
   "execution_count": 29,
   "id": "aa5c00db",
   "metadata": {},
   "outputs": [
    {
     "name": "stdout",
     "output_type": "stream",
     "text": [
      "Ok, Paul, voce esta autorizado a entrar\n"
     ]
    }
   ],
   "source": [
    "age = 21\n",
    "name = \"Paul\"   \n",
    "if age > 19:\n",
    "    if name == \"Paul\":\n",
    "        print(\"Ok, Paul, voce esta autorizado a entrar\")\n",
    "else:\n",
    "    print(\"desculpe, mas vc nao esta autorizado a entrar\")"
   ]
  },
  {
   "cell_type": "code",
   "execution_count": 17,
   "id": "bfd028a0",
   "metadata": {},
   "outputs": [
    {
     "name": "stdout",
     "output_type": "stream",
     "text": [
      "Ok Bob, voce esta autrizado a entrar\n"
     ]
    }
   ],
   "source": [
    "age = 13                          \n",
    "name = \"Bob\"\n",
    "if age >= 13 and name == \"Bob\":       # se as 2 condicoes forem verdadeiras, o codigo executa\n",
    "        print(\"Ok Bob, voce esta autorizado a entrar\")"
   ]
  },
  {
   "cell_type": "code",
   "execution_count": 27,
   "id": "95bc1d8f",
   "metadata": {},
   "outputs": [
    {
     "name": "stdout",
     "output_type": "stream",
     "text": [
      "Ok Bob, voce esta autorizado a entrar\n"
     ]
    }
   ],
   "source": [
    "age = 15                          \n",
    "name = \"J\"\n",
    "if (age >= 13) or (name == \"Bob\"):       # se uma ou outra condicao for verdadeira, o codigo executa\n",
    "        print(\"Ok Bob, voce esta autorizado a entrar\")\n",
    "else:\n",
    "        print(\"nao autorizado\")"
   ]
  }
 ],
 "metadata": {
  "kernelspec": {
   "display_name": "Python 3",
   "language": "python",
   "name": "python3"
  },
  "language_info": {
   "codemirror_mode": {
    "name": "ipython",
    "version": 3
   },
   "file_extension": ".py",
   "mimetype": "text/x-python",
   "name": "python",
   "nbconvert_exporter": "python",
   "pygments_lexer": "ipython3",
   "version": "3.8.8"
  }
 },
 "nbformat": 4,
 "nbformat_minor": 5
}
