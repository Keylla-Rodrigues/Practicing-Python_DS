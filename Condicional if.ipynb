{
 "cells": [
  {
   "cell_type": "markdown",
   "id": "011ca983",
   "metadata": {},
   "source": [
    "### Condicional if"
   ]
  },
  {
   "cell_type": "code",
   "execution_count": 3,
   "id": "056e254b",
   "metadata": {},
   "outputs": [
    {
     "name": "stdout",
     "output_type": "stream",
     "text": [
      "Numero eh maior\n"
     ]
    }
   ],
   "source": [
    "# Condicional if\n",
    "if 10 > 2:                          # expressao if q eh verdadeira\n",
    "    print(\"Numero eh maior\")        # nesse caso so executa essa situacao if. Se for diferente n faz nada"
   ]
  },
  {
   "cell_type": "code",
   "execution_count": 7,
   "id": "0a9178b2",
   "metadata": {},
   "outputs": [
    {
     "name": "stdout",
     "output_type": "stream",
     "text": [
      "Expressao 1 NAO eh verdadeira\n"
     ]
    }
   ],
   "source": [
    "# Statment if...else\n",
    "if 10 < 2:                                      # expressao if q eh verdadeira\n",
    "    print(\"Expressao 1 eh verdadeira\")           \n",
    "else:                                           # expressao else eh executada caso a if seja falsa\n",
    "    print(\"Expressao 1 NAO eh verdadeira\")   # nesse caso o codigo executa 2 situacoes: SE e ELSE (caso contrario)"
   ]
  },
  {
   "cell_type": "code",
   "execution_count": 10,
   "id": "9edb164f",
   "metadata": {},
   "outputs": [
    {
     "name": "stdout",
     "output_type": "stream",
     "text": [
      "O resultado eh igual\n"
     ]
    }
   ],
   "source": [
    "if 10 == 10:\n",
    "    print(\"O resultado eh igual\")"
   ]
  },
  {
   "cell_type": "code",
   "execution_count": 11,
   "id": "5394bdd8",
   "metadata": {},
   "outputs": [
    {
     "name": "stdout",
     "output_type": "stream",
     "text": [
      "O resultado eh igual\n"
     ]
    }
   ],
   "source": [
    "if 10 == 10:\n",
    "    print(\"O resultado eh igual\")\n",
    "else:\n",
    "    print(\"Os valores sao distintos\")"
   ]
  }
 ],
 "metadata": {
  "kernelspec": {
   "display_name": "Python 3",
   "language": "python",
   "name": "python3"
  },
  "language_info": {
   "codemirror_mode": {
    "name": "ipython",
    "version": 3
   },
   "file_extension": ".py",
   "mimetype": "text/x-python",
   "name": "python",
   "nbconvert_exporter": "python",
   "pygments_lexer": "ipython3",
   "version": "3.8.8"
  }
 },
 "nbformat": 4,
 "nbformat_minor": 5
}
