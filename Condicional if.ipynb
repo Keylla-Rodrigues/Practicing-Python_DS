{
 "cells": [
  {
   "cell_type": "markdown",
   "id": "011ca983",
   "metadata": {},
   "source": [
    "### Condicional if"
   ]
  },
  {
   "cell_type": "code",
   "execution_count": 1,
   "id": "056e254b",
   "metadata": {},
   "outputs": [
    {
     "name": "stdout",
     "output_type": "stream",
     "text": [
      "Numero eh maior\n"
     ]
    }
   ],
   "source": [
    "# Condicional if\n",
    "if 10 > 2:                          # expressao if q eh verdadeira\n",
    "    print(\"Numero eh maior\")        # nesse caso so executa essa situacao if. Se for diferente n faz nada"
   ]
  },
  {
   "cell_type": "code",
   "execution_count": 2,
   "id": "0a9178b2",
   "metadata": {},
   "outputs": [
    {
     "name": "stdout",
     "output_type": "stream",
     "text": [
      "Expressao 1 NAO eh verdadeira\n"
     ]
    }
   ],
   "source": [
    "# Statment if...else\n",
    "if 10 < 2:                                      # expressao if q eh verdadeira\n",
    "    print(\"Expressao 1 eh verdadeira\")           \n",
    "else:                                           # expressao else eh executada caso a if seja falsa\n",
    "    print(\"Expressao 1 NAO eh verdadeira\")   # nesse caso o codigo executa 2 situacoes: SE e ELSE (caso contrario)"
   ]
  },
  {
   "cell_type": "code",
   "execution_count": 3,
   "id": "9edb164f",
   "metadata": {},
   "outputs": [
    {
     "name": "stdout",
     "output_type": "stream",
     "text": [
      "O resultado eh igual\n"
     ]
    }
   ],
   "source": [
    "if 10 == 10:\n",
    "    print(\"O resultado eh igual\")"
   ]
  },
  {
   "cell_type": "code",
   "execution_count": 4,
   "id": "5394bdd8",
   "metadata": {},
   "outputs": [
    {
     "name": "stdout",
     "output_type": "stream",
     "text": [
      "O resultado eh igual\n"
     ]
    }
   ],
   "source": [
    "if 10 == 10:\n",
    "    print(\"O resultado eh igual\")\n",
    "else:\n",
    "    print(\"Os valores sao distintos\")"
   ]
  },
  {
   "cell_type": "markdown",
   "id": "466b12ee",
   "metadata": {},
   "source": [
    "### Condicionais aninhados = expressao if dentro de outra expressao if"
   ]
  },
  {
   "cell_type": "code",
   "execution_count": 5,
   "id": "00661de7",
   "metadata": {},
   "outputs": [
    {
     "name": "stdout",
     "output_type": "stream",
     "text": [
      "Ok, Paul, voce esta autorizado a entrar\n"
     ]
    }
   ],
   "source": [
    "age = 21\n",
    "name = \"Paul\"   \n",
    "if age > 19:\n",
    "    if name == \"Paul\":\n",
    "        print(\"Ok, Paul, voce esta autorizado a entrar\")\n",
    "else:\n",
    "    print(\"desculpe, mas vc nao esta autorizado a entrar\")"
   ]
  },
  {
   "cell_type": "code",
   "execution_count": 6,
   "id": "f0179d9f",
   "metadata": {},
   "outputs": [
    {
     "name": "stdout",
     "output_type": "stream",
     "text": [
      "Ok Bob, voce esta autorizado a entrar\n"
     ]
    }
   ],
   "source": [
    "age = 13                          \n",
    "name = \"Bob\"\n",
    "if age >= 13 and name == \"Bob\":       # se as 2 condicoes forem verdadeiras, o codigo executa\n",
    "        print(\"Ok Bob, voce esta autorizado a entrar\")"
   ]
  },
  {
   "cell_type": "code",
   "execution_count": 7,
   "id": "b2182fb7",
   "metadata": {},
   "outputs": [
    {
     "name": "stdout",
     "output_type": "stream",
     "text": [
      "Ok Bob, voce esta autorizado a entrar\n"
     ]
    }
   ],
   "source": [
    "age = 15                          \n",
    "name = \"J\"\n",
    "if (age >= 13) or (name == \"Bob\"):       # se uma ou outra condicao for verdadeira, o codigo executa\n",
    "        print(\"Ok Bob, voce esta autorizado a entrar\")\n",
    "else:\n",
    "        print(\"nao autorizado\")"
   ]
  },
  {
   "cell_type": "markdown",
   "id": "11ded7ef",
   "metadata": {},
   "source": [
    "### Elif"
   ]
  },
  {
   "cell_type": "code",
   "execution_count": 8,
   "id": "88015763",
   "metadata": {},
   "outputs": [
    {
     "name": "stdout",
     "output_type": "stream",
     "text": [
      "Hoje chovera\n"
     ]
    }
   ],
   "source": [
    "dia = \"terca\"\n",
    "if dia == \"segunda\":\n",
    "    print(\"Hoje fara sol\")\n",
    "else:\n",
    "    print(\"Hoje chovera\")"
   ]
  },
  {
   "cell_type": "code",
   "execution_count": 9,
   "id": "889fe019",
   "metadata": {},
   "outputs": [
    {
     "name": "stdout",
     "output_type": "stream",
     "text": [
      "Hoje fara sol\n"
     ]
    }
   ],
   "source": [
    "dia = \"segunda\"\n",
    "if dia == \"segunda\":                 #  if -> expressao 1 verdadeira\n",
    "    print(\"Hoje fara sol\")\n",
    "elif dia == \"Terca\":                 # elif -> expressao 1 falsa e essa verdadeira\n",
    "    print(\"Hoje chovera\")\n",
    "else:                                # elf -> expressoes acima falsas e essa verdadeira\n",
    "    print(\"no previsao\")"
   ]
  },
  {
   "cell_type": "code",
   "execution_count": 10,
   "id": "0c22b8af",
   "metadata": {},
   "outputs": [
    {
     "name": "stdout",
     "output_type": "stream",
     "text": [
      "no previsao\n"
     ]
    }
   ],
   "source": [
    "dia = \"Quarta\"\n",
    "if dia == \"segunda\":\n",
    "    print(\"Hoje fara sol\")\n",
    "elif dia == \"Terca\" or dia == \"Quinta\":\n",
    "    print(\"Previsao de chuva\")\n",
    "else:\n",
    "    print(\"no previsao\")"
   ]
  },
  {
   "cell_type": "code",
   "execution_count": 11,
   "id": "01530dce",
   "metadata": {},
   "outputs": [
    {
     "name": "stdout",
     "output_type": "stream",
     "text": [
      "Previsao de chuva\n"
     ]
    }
   ],
   "source": [
    "dia = \"Quarta\"\n",
    "if dia == \"segunda\":\n",
    "    print(\"Hoje fara sol\")\n",
    "elif dia != \"Terca\" or dia == \"Quinta\":\n",
    "    print(\"Previsao de chuva\")\n",
    "else:\n",
    "    print(\"no previsao\")"
   ]
  },
  {
   "cell_type": "code",
   "execution_count": 28,
   "id": "4345b788",
   "metadata": {},
   "outputs": [
    {
     "name": "stdout",
     "output_type": "stream",
     "text": [
      "Digite the Opp#: 1\n",
      "Sorry, pls re-type it. Max 1 numeric digit.\n"
     ]
    }
   ],
   "source": [
    "var = \"opp#\"\n",
    "\n",
    "opp = input(\"Digite the Opp#: \")\n",
    "\n",
    "if opp != \"6\":\n",
    "    print(\"Sorry, pls re-type it. Max 1 numeric digit.\")\n",
    "else:\n",
    "    print(\"Congratualations\")"
   ]
  },
  {
   "cell_type": "code",
   "execution_count": 12,
   "id": "94364889",
   "metadata": {},
   "outputs": [
    {
     "name": "stdout",
     "output_type": "stream",
     "text": [
      "Digite o nome da disciplina: matematica\n",
      "Digite a nota final (entre 0 e 100): 50\n",
      "Infelizmente, voce foi reprovado.\n"
     ]
    }
   ],
   "source": [
    "# Usando mais de uma condicao na clausula if\n",
    "\n",
    "disciplina = input(\"Digite o nome da disciplina: \")\n",
    "nota_final = input(\"Digite a nota final (entre 0 e 100): \")\n",
    "\n",
    "if disciplina == \"Geografia\" and nota_final >=\"70\":\n",
    "    print(\"Voce foi aprovado!\")\n",
    "else:\n",
    "    print(\"Infelizmente, voce foi reprovado.\")"
   ]
  },
  {
   "cell_type": "code",
   "execution_count": 13,
   "id": "66a2ae50",
   "metadata": {},
   "outputs": [
    {
     "name": "stdout",
     "output_type": "stream",
     "text": [
      "Type in the part number:100560-00\n",
      "Type in the demand type (one of the options: addition, update or deletion): test\n",
      "Sorry. Not this time\n"
     ]
    }
   ],
   "source": [
    "part_number = input(\"Type in the part number:\" )\n",
    "demand_type = input(\"Type in the demand type (one of the options: addition, update or deletion): \")\n",
    "list = [\"100560-00\", \"100561-00\", \"100565-00\"]\n",
    "\n",
    "if part_number == list and demand_type == \"deletion\":\n",
    "    print(\"You nailed it\")\n",
    "else:\n",
    "    print(\"Sorry. Not this time\")"
   ]
  },
  {
   "cell_type": "code",
   "execution_count": 30,
   "id": "e2836d50",
   "metadata": {},
   "outputs": [
    {
     "name": "stdout",
     "output_type": "stream",
     "text": [
      "Digite o nome da disciplina: geografia\n",
      "Digite a nota final (entre 0 e 100): 75\n",
      "Digite o semestre (1 a 4): 2\n",
      "Infelizmente, nao foi desta vez.\n"
     ]
    }
   ],
   "source": [
    "# Usando mais de uma condicao na clausula if e introduzindo Placeholders\n",
    "\n",
    "disciplina = input(\"Digite o nome da disciplina: \")\n",
    "nota_final = input(\"Digite a nota final (entre 0 e 100): \")\n",
    "semestre = input(\"Digite o semestre (1 a 4): \")\n",
    "\n",
    "if disciplina == \"Geografia\" and nota_final >=\"60\" and int(semestre) != 1:  \n",
    "    # aqui converte o valor string digitado pelo usuario p/ inteiro e ai converte p valor numerico \n",
    "    # verificando se eh diferente de 1\n",
    "    \n",
    "    print(\"Voce foi aprovado em %s com media final %r!\" %(disciplina, nota_final)) \n",
    "    # %s & %r (placeholders) -> pega o 1o e 2o valor das variaveis nos parenteses\n",
    "\n",
    "else:\n",
    "    print(\"Infelizmente, nao foi desta vez.\")\n"
   ]
  }
 ],
 "metadata": {
  "kernelspec": {
   "display_name": "Python 3",
   "language": "python",
   "name": "python3"
  },
  "language_info": {
   "codemirror_mode": {
    "name": "ipython",
    "version": 3
   },
   "file_extension": ".py",
   "mimetype": "text/x-python",
   "name": "python",
   "nbconvert_exporter": "python",
   "pygments_lexer": "ipython3",
   "version": "3.8.8"
  }
 },
 "nbformat": 4,
 "nbformat_minor": 5
}
