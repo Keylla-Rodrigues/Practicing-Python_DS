{
 "cells": [
  {
   "cell_type": "markdown",
   "id": "169cb08b",
   "metadata": {},
   "source": [
    "### Dicionarios (usados mto em Deep Learning)\n",
    "#### dict = {k1:v1, k2:v2, ..., kn:vn} -> {chave1:valor1, chave2:valor2}"
   ]
  },
  {
   "cell_type": "code",
   "execution_count": 1,
   "id": "a5bc745f",
   "metadata": {},
   "outputs": [],
   "source": [
    "# Criando uma lista de nomes e idades (-> usa-se colchetes) p/ visualizar c/ um dicionario\n",
    "lista = [\"Mateus\", 24, \"Fernanda\", 22, \"Tamires\", 26, \"Cristiano\", 25]"
   ]
  },
  {
   "cell_type": "code",
   "execution_count": 2,
   "id": "7ae05172",
   "metadata": {},
   "outputs": [
    {
     "data": {
      "text/plain": [
       "['Mateus', 24, 'Fernanda', 22, 'Tamires', 26, 'Cristiano', 25]"
      ]
     },
     "execution_count": 2,
     "metadata": {},
     "output_type": "execute_result"
    }
   ],
   "source": [
    "lista"
   ]
  },
  {
   "cell_type": "code",
   "execution_count": 3,
   "id": "074a53c5",
   "metadata": {},
   "outputs": [],
   "source": [
    "# Criando dicionario de nomes e idades -> usa-se chaves\n",
    "dicionario = {\"Cristiano\": 25, \"Fernanda\": 22, \"Mateus\": 24, \"Tamires\": 26}"
   ]
  },
  {
   "cell_type": "code",
   "execution_count": 4,
   "id": "4f109ac0",
   "metadata": {},
   "outputs": [
    {
     "data": {
      "text/plain": [
       "{'Cristiano': 25, 'Fernanda': 22, 'Mateus': 24, 'Tamires': 26}"
      ]
     },
     "execution_count": 4,
     "metadata": {},
     "output_type": "execute_result"
    }
   ],
   "source": [
    "dicionario"
   ]
  },
  {
   "cell_type": "code",
   "execution_count": 5,
   "id": "4fb9956e",
   "metadata": {},
   "outputs": [
    {
     "data": {
      "text/plain": [
       "24"
      ]
     },
     "execution_count": 5,
     "metadata": {},
     "output_type": "execute_result"
    }
   ],
   "source": [
    "dicionario[\"Mateus\"]  # o colchete representa o indice. Quero mostrar a idade desse indice Mateus"
   ]
  },
  {
   "cell_type": "code",
   "execution_count": 6,
   "id": "25d130bd",
   "metadata": {},
   "outputs": [],
   "source": [
    "# Adicionar um novo elemento na lista - nome e idade\n",
    "dicionario[\"Pedro\"] = 23 "
   ]
  },
  {
   "cell_type": "code",
   "execution_count": 7,
   "id": "46b98ad5",
   "metadata": {},
   "outputs": [
    {
     "data": {
      "text/plain": [
       "23"
      ]
     },
     "execution_count": 7,
     "metadata": {},
     "output_type": "execute_result"
    }
   ],
   "source": [
    "dicionario[\"Pedro\"] "
   ]
  },
  {
   "cell_type": "code",
   "execution_count": 8,
   "id": "a61d4d2e",
   "metadata": {},
   "outputs": [
    {
     "data": {
      "text/plain": [
       "{'Cristiano': 25, 'Fernanda': 22, 'Mateus': 24, 'Tamires': 26, 'Pedro': 23}"
      ]
     },
     "execution_count": 8,
     "metadata": {},
     "output_type": "execute_result"
    }
   ],
   "source": [
    "dicionario"
   ]
  },
  {
   "cell_type": "code",
   "execution_count": 9,
   "id": "e79f5353",
   "metadata": {},
   "outputs": [],
   "source": [
    "# Limpar um dicionario -> clear\n",
    "dicionario.clear()"
   ]
  },
  {
   "cell_type": "code",
   "execution_count": 10,
   "id": "37e11f7f",
   "metadata": {},
   "outputs": [
    {
     "data": {
      "text/plain": [
       "{}"
      ]
     },
     "execution_count": 10,
     "metadata": {},
     "output_type": "execute_result"
    }
   ],
   "source": [
    "dicionario  # imprimindo o dicionario apos ele ter sido limpado e ai sobrou as chaves"
   ]
  },
  {
   "cell_type": "code",
   "execution_count": 11,
   "id": "6f4a0ae6",
   "metadata": {},
   "outputs": [],
   "source": [
    "# Deletar um dicionario -> del\n",
    "del dicionario"
   ]
  },
  {
   "cell_type": "code",
   "execution_count": 12,
   "id": "f2804b7b",
   "metadata": {},
   "outputs": [
    {
     "ename": "NameError",
     "evalue": "name 'dicionario' is not defined",
     "output_type": "error",
     "traceback": [
      "\u001b[1;31m---------------------------------------------------------------------------\u001b[0m",
      "\u001b[1;31mNameError\u001b[0m                                 Traceback (most recent call last)",
      "\u001b[1;32m<ipython-input-12-9e53b7bb9e58>\u001b[0m in \u001b[0;36m<module>\u001b[1;34m\u001b[0m\n\u001b[1;32m----> 1\u001b[1;33m \u001b[0mdicionario\u001b[0m \u001b[1;31m# ao imprimir o dicionario apos ter sido deletado, o Python mostra dizendo q n existe.\u001b[0m\u001b[1;33m\u001b[0m\u001b[1;33m\u001b[0m\u001b[0m\n\u001b[0m",
      "\u001b[1;31mNameError\u001b[0m: name 'dicionario' is not defined"
     ]
    }
   ],
   "source": [
    "dicionario # ao imprimir o dicionario apos ter sido deletado, o Python mostra dizendo q n existe."
   ]
  },
  {
   "cell_type": "code",
   "execution_count": null,
   "id": "7d496d96",
   "metadata": {},
   "outputs": [],
   "source": [
    "# Re-criando o mesmo dicionario de nomes e idades -> usa-se chaves\n",
    "dicionario = {\"Cristiano\": 25, \"Fernanda\": 22, \"Mateus\": 24, \"Tamires\": 26}"
   ]
  },
  {
   "cell_type": "code",
   "execution_count": null,
   "id": "ec299cc0",
   "metadata": {},
   "outputs": [],
   "source": [
    "# Saber o tamanho do dicionario -> len(). O tam eh 4 por haver 4 combinacoes\n",
    "len(dicionario)"
   ]
  },
  {
   "cell_type": "code",
   "execution_count": null,
   "id": "a937ce4f",
   "metadata": {},
   "outputs": [],
   "source": [
    "# Extrair apenas os nomes\n",
    "dicionario.keys()"
   ]
  },
  {
   "cell_type": "code",
   "execution_count": null,
   "id": "88e9018f",
   "metadata": {},
   "outputs": [],
   "source": [
    "# Extrair apenas as idades\n",
    "dicionario.values()"
   ]
  },
  {
   "cell_type": "code",
   "execution_count": null,
   "id": "7a043713",
   "metadata": {},
   "outputs": [],
   "source": [
    "# Retornar todos os items (combinacoes de chaves e valor) do dicionario\n",
    "dicionario.items()"
   ]
  },
  {
   "cell_type": "code",
   "execution_count": null,
   "id": "4e6d0ea3",
   "metadata": {},
   "outputs": [],
   "source": [
    "# Criando outro dicionario2\n",
    "dicionario2 = {\"Maria\": 27, \"Erika\": 28, \"Milton\": 26}"
   ]
  },
  {
   "cell_type": "code",
   "execution_count": null,
   "id": "19b4399d",
   "metadata": {},
   "outputs": [],
   "source": [
    "dicionario2"
   ]
  },
  {
   "cell_type": "code",
   "execution_count": null,
   "id": "6a847dcc",
   "metadata": {},
   "outputs": [],
   "source": [
    "# Atualizando o dicionario: adicionando o conteudo do dicionario2 no conteudo do dicionario\n",
    "dicionario.update(dicionario2)"
   ]
  },
  {
   "cell_type": "code",
   "execution_count": null,
   "id": "07de6690",
   "metadata": {},
   "outputs": [],
   "source": [
    "dicionario"
   ]
  },
  {
   "cell_type": "code",
   "execution_count": 13,
   "id": "911af6ac",
   "metadata": {},
   "outputs": [],
   "source": [
    "# Criar um dicionario vazio e indo adicionando elementos\n",
    "dicionario3 = {}"
   ]
  },
  {
   "cell_type": "code",
   "execution_count": 14,
   "id": "378c6012",
   "metadata": {},
   "outputs": [
    {
     "data": {
      "text/plain": [
       "{}"
      ]
     },
     "execution_count": 14,
     "metadata": {},
     "output_type": "execute_result"
    }
   ],
   "source": [
    "dicionario3"
   ]
  },
  {
   "cell_type": "markdown",
   "id": "c0a741a8",
   "metadata": {},
   "source": [
    "### Criando dicionarios aninhados"
   ]
  },
  {
   "cell_type": "code",
   "execution_count": null,
   "id": "c3faa1e7",
   "metadata": {},
   "outputs": [],
   "source": [
    "# Criando dicionarios aninhados"
   ]
  }
 ],
 "metadata": {
  "kernelspec": {
   "display_name": "Python 3",
   "language": "python",
   "name": "python3"
  },
  "language_info": {
   "codemirror_mode": {
    "name": "ipython",
    "version": 3
   },
   "file_extension": ".py",
   "mimetype": "text/x-python",
   "name": "python",
   "nbconvert_exporter": "python",
   "pygments_lexer": "ipython3",
   "version": "3.8.8"
  }
 },
 "nbformat": 4,
 "nbformat_minor": 5
}
