{
 "cells": [
  {
   "cell_type": "markdown",
   "id": "41caf07b",
   "metadata": {},
   "source": [
    "### Dicionarios\n",
    "#### dict = {k1:v1, k2:v2, ..., kn:vn} -> {chave1:valor1, chave2:valor2}"
   ]
  },
  {
   "cell_type": "code",
   "execution_count": 1,
   "id": "4db87e3e",
   "metadata": {},
   "outputs": [],
   "source": [
    "# Criando uma lista de nomes e idades (-> usa-se colchetes) p/ visualizar c/ um dicionario\n",
    "lista = [\"Mateus\", 24, \"Fernanda\", 22, \"Tamires\", 26, \"Cristiano\", 25]"
   ]
  },
  {
   "cell_type": "code",
   "execution_count": 2,
   "id": "065a5761",
   "metadata": {},
   "outputs": [
    {
     "data": {
      "text/plain": [
       "['Mateus', 24, 'Fernanda', 22, 'Tamires', 26, 'Cristiano', 25]"
      ]
     },
     "execution_count": 2,
     "metadata": {},
     "output_type": "execute_result"
    }
   ],
   "source": [
    "lista"
   ]
  },
  {
   "cell_type": "code",
   "execution_count": 3,
   "id": "93b8d7f2",
   "metadata": {},
   "outputs": [],
   "source": [
    "# Criando dicionario de nomes e idades -> usa-se chaves\n",
    "dicionario = {\"Cristiano\": 25, \"Fernanda\": 22, \"Mateus\": 24, \"Tamires\": 26}"
   ]
  },
  {
   "cell_type": "code",
   "execution_count": 4,
   "id": "38e474d1",
   "metadata": {},
   "outputs": [
    {
     "data": {
      "text/plain": [
       "{'Cristiano': 25, 'Fernanda': 22, 'Mateus': 24, 'Tamires': 26}"
      ]
     },
     "execution_count": 4,
     "metadata": {},
     "output_type": "execute_result"
    }
   ],
   "source": [
    "dicionario"
   ]
  },
  {
   "cell_type": "code",
   "execution_count": 5,
   "id": "881c017b",
   "metadata": {},
   "outputs": [
    {
     "data": {
      "text/plain": [
       "24"
      ]
     },
     "execution_count": 5,
     "metadata": {},
     "output_type": "execute_result"
    }
   ],
   "source": [
    "dicionario[\"Mateus\"]  # o colchete representa o indice. Quero mostrar a idade desse indice Mateus"
   ]
  },
  {
   "cell_type": "code",
   "execution_count": 6,
   "id": "01214ad5",
   "metadata": {},
   "outputs": [],
   "source": [
    "# Adicionar um novo elemento na lista - nome e idade\n",
    "dicionario[\"Pedro\"] = 23 "
   ]
  },
  {
   "cell_type": "code",
   "execution_count": 7,
   "id": "bbc01d9b",
   "metadata": {},
   "outputs": [
    {
     "data": {
      "text/plain": [
       "23"
      ]
     },
     "execution_count": 7,
     "metadata": {},
     "output_type": "execute_result"
    }
   ],
   "source": [
    "dicionario[\"Pedro\"] "
   ]
  },
  {
   "cell_type": "code",
   "execution_count": 8,
   "id": "49825787",
   "metadata": {},
   "outputs": [
    {
     "data": {
      "text/plain": [
       "{'Cristiano': 25, 'Fernanda': 22, 'Mateus': 24, 'Tamires': 26, 'Pedro': 23}"
      ]
     },
     "execution_count": 8,
     "metadata": {},
     "output_type": "execute_result"
    }
   ],
   "source": [
    "dicionario"
   ]
  },
  {
   "cell_type": "code",
   "execution_count": 9,
   "id": "669751d9",
   "metadata": {},
   "outputs": [],
   "source": [
    "# Limpar um dicionario -> clear\n",
    "dicionario.clear()"
   ]
  },
  {
   "cell_type": "code",
   "execution_count": 10,
   "id": "a16ca02f",
   "metadata": {},
   "outputs": [
    {
     "data": {
      "text/plain": [
       "{}"
      ]
     },
     "execution_count": 10,
     "metadata": {},
     "output_type": "execute_result"
    }
   ],
   "source": [
    "dicionario  # imprimindo o dicionario apos ele ter sido limpado e ai sobrou as chaves"
   ]
  },
  {
   "cell_type": "code",
   "execution_count": 11,
   "id": "f30b48cc",
   "metadata": {},
   "outputs": [],
   "source": [
    "# Deletar um dicionario -> del\n",
    "del dicionario"
   ]
  },
  {
   "cell_type": "code",
   "execution_count": 12,
   "id": "d1f2c367",
   "metadata": {},
   "outputs": [
    {
     "ename": "NameError",
     "evalue": "name 'dicionario' is not defined",
     "output_type": "error",
     "traceback": [
      "\u001b[1;31m---------------------------------------------------------------------------\u001b[0m",
      "\u001b[1;31mNameError\u001b[0m                                 Traceback (most recent call last)",
      "\u001b[1;32m<ipython-input-12-49c9c0b2a074>\u001b[0m in \u001b[0;36m<module>\u001b[1;34m\u001b[0m\n\u001b[1;32m----> 1\u001b[1;33m \u001b[0mdicionario\u001b[0m\u001b[1;33m\u001b[0m\u001b[1;33m\u001b[0m\u001b[0m\n\u001b[0m",
      "\u001b[1;31mNameError\u001b[0m: name 'dicionario' is not defined"
     ]
    }
   ],
   "source": [
    "dicionario # ao imprimir o dicionario apos ter sido deletado, o Python mostra dizendo q n existe."
   ]
  },
  {
   "cell_type": "code",
   "execution_count": 13,
   "id": "e56afcef",
   "metadata": {},
   "outputs": [],
   "source": [
    "# Re-criando o mesmo dicionario de nomes e idades -> usa-se chaves\n",
    "dicionario = {\"Cristiano\": 25, \"Fernanda\": 22, \"Mateus\": 24, \"Tamires\": 26}"
   ]
  },
  {
   "cell_type": "code",
   "execution_count": 16,
   "id": "db315334",
   "metadata": {},
   "outputs": [
    {
     "data": {
      "text/plain": [
       "4"
      ]
     },
     "execution_count": 16,
     "metadata": {},
     "output_type": "execute_result"
    }
   ],
   "source": [
    "# Saber o tamanho do dicionario -> len()\n",
    "len(dicionario)"
   ]
  }
 ],
 "metadata": {
  "kernelspec": {
   "display_name": "Python 3",
   "language": "python",
   "name": "python3"
  },
  "language_info": {
   "codemirror_mode": {
    "name": "ipython",
    "version": 3
   },
   "file_extension": ".py",
   "mimetype": "text/x-python",
   "name": "python",
   "nbconvert_exporter": "python",
   "pygments_lexer": "ipython3",
   "version": "3.8.8"
  }
 },
 "nbformat": 4,
 "nbformat_minor": 5
}
