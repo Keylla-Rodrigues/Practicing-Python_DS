{
 "cells": [
  {
   "cell_type": "markdown",
   "id": "162ee6d6",
   "metadata": {},
   "source": [
    "### Funcoes"
   ]
  },
  {
   "cell_type": "code",
   "execution_count": 2,
   "id": "afe40bed",
   "metadata": {},
   "outputs": [],
   "source": [
    "# Definir uma funcao - q eh a criacao da funcao q a deixara reservada no computador\n",
    "def primeiraFunc():\n",
    "    print(\"Bem vindo ao treinamento de Python\")"
   ]
  },
  {
   "cell_type": "code",
   "execution_count": 3,
   "id": "bb810962",
   "metadata": {},
   "outputs": [
    {
     "name": "stdout",
     "output_type": "stream",
     "text": [
      "Bem vindo ao treinamento de Python\n"
     ]
    }
   ],
   "source": [
    "# Executar a funcao (chamando)\n",
    "primeiraFunc()"
   ]
  },
  {
   "cell_type": "code",
   "execution_count": 19,
   "id": "f1bc6860",
   "metadata": {},
   "outputs": [],
   "source": [
    "# Definindo uma funcao com parametro. Se a fcao for com o mesmo nome ele sera overwrite\n",
    "def primeiraFunc(nome):    #nome eh o parametro\n",
    "    print(\"Bem vindo ao treinamento de Python %s\"  %(nome))"
   ]
  },
  {
   "cell_type": "code",
   "execution_count": 20,
   "id": "d66df328",
   "metadata": {},
   "outputs": [
    {
     "name": "stdout",
     "output_type": "stream",
     "text": [
      "Bem vindo ao treinamento de Python aluno\n"
     ]
    }
   ],
   "source": [
    "# Imprimindo a funcao\n",
    "primeiraFunc(\"aluno\")  # aluno = string"
   ]
  },
  {
   "cell_type": "code",
   "execution_count": 28,
   "id": "e6448ef4",
   "metadata": {},
   "outputs": [],
   "source": [
    "# Criando uma nova funcao chamada funcLeitura \n",
    "def funcLeitura():                       # nome da funcao -> funcLeitura\n",
    "    for i in range(0, 5):                # p/ um numero de 0 a 5, pegue a palavra Numero e junte a cd numero i\n",
    "        print(\"Numero\" + \" \" +  str(i))  # \" \" gera o espaco entre as strings"
   ]
  },
  {
   "cell_type": "code",
   "execution_count": 29,
   "id": "33023791",
   "metadata": {},
   "outputs": [
    {
     "name": "stdout",
     "output_type": "stream",
     "text": [
      "Numero 0\n",
      "Numero 1\n",
      "Numero 2\n",
      "Numero 3\n",
      "Numero 4\n"
     ]
    }
   ],
   "source": [
    "funcLeitura()"
   ]
  },
  {
   "cell_type": "code",
   "execution_count": 32,
   "id": "9d539371",
   "metadata": {},
   "outputs": [],
   "source": [
    "# Funcao para somar numeros\n",
    "def addNum(firstnum, secondnum):\n",
    "    print(\"Primeiro numero: \" + str(firstnum))\n",
    "    print(\"Segundo numero: \" + str(secondnum))\n",
    "    print(\"Soma: \", firstnum + secondnum)"
   ]
  },
  {
   "cell_type": "code",
   "execution_count": 33,
   "id": "aa347f92",
   "metadata": {},
   "outputs": [
    {
     "name": "stdout",
     "output_type": "stream",
     "text": [
      "Primeiro numero: 45\n",
      "Segundo numero: 3\n",
      "Soma:  48\n"
     ]
    }
   ],
   "source": [
    "# Chamando a funcao addNum e passando os parametros\n",
    "addNum(45, 3)"
   ]
  },
  {
   "cell_type": "code",
   "execution_count": 34,
   "id": "dba33e9f",
   "metadata": {},
   "outputs": [
    {
     "name": "stdout",
     "output_type": "stream",
     "text": [
      "Primeiro numero: 45\n",
      "Segundo numero: 3\n",
      "Soma:  48\n"
     ]
    }
   ],
   "source": [
    "addNum(45, 3)\n",
    "def addNum(firstnum, secondnum):\n",
    "    print(\"Primeiro numero: \" + str(firstnum))\n",
    "    print(\"Segundo numero: \" + str(secondnum))\n",
    "    print(\"Soma: \", firstnum + secondnum)\n"
   ]
  },
  {
   "cell_type": "code",
   "execution_count": null,
   "id": "c3682356",
   "metadata": {},
   "outputs": [],
   "source": []
  }
 ],
 "metadata": {
  "kernelspec": {
   "display_name": "Python 3",
   "language": "python",
   "name": "python3"
  },
  "language_info": {
   "codemirror_mode": {
    "name": "ipython",
    "version": 3
   },
   "file_extension": ".py",
   "mimetype": "text/x-python",
   "name": "python",
   "nbconvert_exporter": "python",
   "pygments_lexer": "ipython3",
   "version": "3.8.8"
  }
 },
 "nbformat": 4,
 "nbformat_minor": 5
}
