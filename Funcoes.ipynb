{
 "cells": [
  {
   "cell_type": "markdown",
   "id": "162ee6d6",
   "metadata": {},
   "source": [
    "### Funcoes"
   ]
  },
  {
   "cell_type": "code",
   "execution_count": 2,
   "id": "afe40bed",
   "metadata": {},
   "outputs": [],
   "source": [
    "# Definir uma funcao - q eh a criacao da funcao q a deixara reservada no computador\n",
    "def primeiraFunc():\n",
    "    print(\"Bem vindo ao treinamento de Python\")"
   ]
  },
  {
   "cell_type": "code",
   "execution_count": 3,
   "id": "bb810962",
   "metadata": {},
   "outputs": [
    {
     "name": "stdout",
     "output_type": "stream",
     "text": [
      "Bem vindo ao treinamento de Python\n"
     ]
    }
   ],
   "source": [
    "# Executar a funcao (chamando)\n",
    "primeiraFunc()"
   ]
  },
  {
   "cell_type": "code",
   "execution_count": 19,
   "id": "f1bc6860",
   "metadata": {},
   "outputs": [],
   "source": [
    "# Definindo uma funcao com parametro. Se a fcao for com o mesmo nome ele sera overwrite\n",
    "def primeiraFunc(nome):    #nome eh o parametro\n",
    "    print(\"Bem vindo ao treinamento de Python %s\"  %(nome))"
   ]
  },
  {
   "cell_type": "code",
   "execution_count": 20,
   "id": "d66df328",
   "metadata": {},
   "outputs": [
    {
     "name": "stdout",
     "output_type": "stream",
     "text": [
      "Bem vindo ao treinamento de Python aluno\n"
     ]
    }
   ],
   "source": [
    "# Imprimindo a funcao\n",
    "primeiraFunc(\"aluno\")  # aluno = string"
   ]
  },
  {
   "cell_type": "code",
   "execution_count": 28,
   "id": "e6448ef4",
   "metadata": {},
   "outputs": [],
   "source": [
    "# Criando uma nova funcao chamada funcLeitura \n",
    "def funcLeitura():                       # nome da funcao -> funcLeitura\n",
    "    for i in range(0, 5):                # p/ um numero de 0 a 5, pegue a palavra Numero e junte a cd numero i\n",
    "        print(\"Numero\" + \" \" +  str(i))  # \" \" gera o espaco entre as strings"
   ]
  },
  {
   "cell_type": "code",
   "execution_count": 29,
   "id": "33023791",
   "metadata": {},
   "outputs": [
    {
     "name": "stdout",
     "output_type": "stream",
     "text": [
      "Numero 0\n",
      "Numero 1\n",
      "Numero 2\n",
      "Numero 3\n",
      "Numero 4\n"
     ]
    }
   ],
   "source": [
    "funcLeitura()"
   ]
  },
  {
   "cell_type": "code",
   "execution_count": 32,
   "id": "9d539371",
   "metadata": {},
   "outputs": [],
   "source": [
    "# Funcao para somar numeros\n",
    "def addNum(firstnum, secondnum):\n",
    "    print(\"Primeiro numero: \" + str(firstnum))\n",
    "    print(\"Segundo numero: \" + str(secondnum))\n",
    "    print(\"Soma: \", firstnum + secondnum)"
   ]
  },
  {
   "cell_type": "code",
   "execution_count": 33,
   "id": "aa347f92",
   "metadata": {},
   "outputs": [
    {
     "name": "stdout",
     "output_type": "stream",
     "text": [
      "Primeiro numero: 45\n",
      "Segundo numero: 3\n",
      "Soma:  48\n"
     ]
    }
   ],
   "source": [
    "# Chamando a funcao addNum e passando os parametros\n",
    "addNum(45, 3)"
   ]
  },
  {
   "cell_type": "code",
   "execution_count": 34,
   "id": "dba33e9f",
   "metadata": {},
   "outputs": [
    {
     "name": "stdout",
     "output_type": "stream",
     "text": [
      "Primeiro numero: 45\n",
      "Segundo numero: 3\n",
      "Soma:  48\n"
     ]
    }
   ],
   "source": [
    "addNum(45, 3)\n",
    "def addNum(firstnum, secondnum):\n",
    "    print(\"Primeiro numero: \" + str(firstnum))\n",
    "    print(\"Segundo numero: \" + str(secondnum))\n",
    "    print(\"Soma: \", firstnum + secondnum)\n"
   ]
  },
  {
   "cell_type": "code",
   "execution_count": 1,
   "id": "c3682356",
   "metadata": {},
   "outputs": [],
   "source": [
    "firstnum = 45\n",
    "secondnum = 3\n",
    "\n",
    "def addNum(firstnum, secondnum):\n",
    "    print(\"Primeiro numero: \" + str(firstnum))\n",
    "    print(\"Segundo numero: \" + str(secondnum))\n",
    "    print(\"Soma: \", firstnum + secondnum)"
   ]
  },
  {
   "cell_type": "code",
   "execution_count": 16,
   "id": "6a9b2584",
   "metadata": {},
   "outputs": [
    {
     "name": "stdout",
     "output_type": "stream",
     "text": [
      "Soma:  48\n"
     ]
    }
   ],
   "source": [
    " print(\"Soma: \", firstnum + secondnum)"
   ]
  },
  {
   "cell_type": "code",
   "execution_count": 22,
   "id": "28046bf2",
   "metadata": {},
   "outputs": [],
   "source": [
    "import math    # math eh um pacote q ja tem varias funcoes prontas com caracteristicas similares de matematica\n",
    "\n",
    "def numPrimo(num):\n",
    "    '''Verificando se um numero eh primo'''\n",
    "    if (num % 2) == 0 and num > 2:            #se o numero divido por 2 for = 0 & <=2 -> nao eh primo\n",
    "        return \"Este numero nao eh primo\"\n",
    "    for i in range(3, int(math.sqrt(num)) + 1, 2):  # num range inciando por 3 e into ate a raiz quadrada d numero +1\n",
    "                                                    # saltando de 2 em 2\n",
    "        if (num % 1) == 0:     # se o numero divido por 1 for igual a zero\n",
    "            return \"Este numero nao eh primo\" \n",
    "        return \"Este numero eh primo\""
   ]
  },
  {
   "cell_type": "code",
   "execution_count": 23,
   "id": "3f8fd1c7",
   "metadata": {},
   "outputs": [
    {
     "data": {
      "text/plain": [
       "'Este numero nao eh primo'"
      ]
     },
     "execution_count": 23,
     "metadata": {},
     "output_type": "execute_result"
    }
   ],
   "source": [
    "numPrimo(541)"
   ]
  },
  {
   "cell_type": "markdown",
   "id": "1722e0cc",
   "metadata": {},
   "source": [
    "### Fazendo split dos dados"
   ]
  },
  {
   "cell_type": "code",
   "execution_count": 24,
   "id": "52e0b2fc",
   "metadata": {},
   "outputs": [],
   "source": [
    "# Fazendo uma funcao que dividira (split) os dados\n",
    "def split_string(text):\n",
    "    return text.split( \" \")"
   ]
  },
  {
   "cell_type": "code",
   "execution_count": 29,
   "id": "913305a9",
   "metadata": {},
   "outputs": [],
   "source": [
    "text = \"Esta funcao sera bastante util p separar gdes volumes de dados\""
   ]
  },
  {
   "cell_type": "code",
   "execution_count": 30,
   "id": "a3a55a13",
   "metadata": {},
   "outputs": [
    {
     "name": "stdout",
     "output_type": "stream",
     "text": [
      "['Esta', 'funcao', 'sera', 'bastante', 'util', 'p', 'separar', 'gdes', 'volumes', 'de', 'dados']\n"
     ]
    }
   ],
   "source": [
    "# Isso divide uma string em uma lista\n",
    "print(split_string(text))"
   ]
  },
  {
   "cell_type": "code",
   "execution_count": 31,
   "id": "766459b8",
   "metadata": {},
   "outputs": [],
   "source": [
    "# Fazer uma funcao e gravar o resultado numa variavel\n",
    "token = split_string(text)   # criei variavel chamada token q recebe \"split_string(text)\""
   ]
  },
  {
   "cell_type": "code",
   "execution_count": 32,
   "id": "947b1cad",
   "metadata": {},
   "outputs": [
    {
     "data": {
      "text/plain": [
       "['Esta',\n",
       " 'funcao',\n",
       " 'sera',\n",
       " 'bastante',\n",
       " 'util',\n",
       " 'p',\n",
       " 'separar',\n",
       " 'gdes',\n",
       " 'volumes',\n",
       " 'de',\n",
       " 'dados']"
      ]
     },
     "execution_count": 32,
     "metadata": {},
     "output_type": "execute_result"
    }
   ],
   "source": [
    "token   # printing the variable token"
   ]
  },
  {
   "cell_type": "code",
   "execution_count": 34,
   "id": "6fc4a325",
   "metadata": {},
   "outputs": [],
   "source": [
    "# Usando uma funcao q colocara em letra minuscula\n",
    "small_letter = \"Este Texto Deveria Estar Todo Em Lower Case\""
   ]
  },
  {
   "cell_type": "code",
   "execution_count": 35,
   "id": "8e996d17",
   "metadata": {},
   "outputs": [],
   "source": [
    "def lowercase(text):\n",
    "    return text.lower()"
   ]
  },
  {
   "cell_type": "code",
   "execution_count": null,
   "id": "436cea25",
   "metadata": {},
   "outputs": [],
   "source": [
    "lowercased_string = lowercase(small_letter)"
   ]
  },
  {
   "cell_type": "markdown",
   "id": "f13dd026",
   "metadata": {},
   "source": [
    "### Funcoes str, int, float"
   ]
  },
  {
   "cell_type": "code",
   "execution_count": null,
   "id": "827200fb",
   "metadata": {},
   "outputs": [],
   "source": []
  },
  {
   "cell_type": "code",
   "execution_count": 3,
   "id": "1e9a3cb1",
   "metadata": {},
   "outputs": [
    {
     "name": "stdout",
     "output_type": "stream",
     "text": [
      "Digite sua idade: 14\n",
      "Voce pode acessar o software\n"
     ]
    }
   ],
   "source": [
    "# Usando a funcao int para converter o valor digitado  -> sem o int dara um erro pq o input eh uma string e a\n",
    "# comparacao foi feita com a idade (valor numerico). Diferenca de tipo de dado. Ai converte o int p ter valor numerico\n",
    "idade = int(input(\"Digite sua idade: \"))\n",
    "if idade > 13:\n",
    "    print(\"Voce pode acessar o software\")"
   ]
  },
  {
   "cell_type": "code",
   "execution_count": 4,
   "id": "864aad26",
   "metadata": {},
   "outputs": [
    {
     "data": {
      "text/plain": [
       "26"
      ]
     },
     "execution_count": 4,
     "metadata": {},
     "output_type": "execute_result"
    }
   ],
   "source": [
    "# Converter string p/ valor numerico\n",
    "int(\"26\")"
   ]
  },
  {
   "cell_type": "code",
   "execution_count": 6,
   "id": "638cfb1d",
   "metadata": {},
   "outputs": [
    {
     "data": {
      "text/plain": [
       "123.4"
      ]
     },
     "execution_count": 6,
     "metadata": {},
     "output_type": "execute_result"
    }
   ],
   "source": [
    "# Converter string p/ valor numerico\n",
    "float(\"123.400\")"
   ]
  },
  {
   "cell_type": "code",
   "execution_count": 7,
   "id": "29ff3cc0",
   "metadata": {},
   "outputs": [
    {
     "data": {
      "text/plain": [
       "'14'"
      ]
     },
     "execution_count": 7,
     "metadata": {},
     "output_type": "execute_result"
    }
   ],
   "source": [
    "# Converter valor numerico p/ string\n",
    "str(14)"
   ]
  },
  {
   "cell_type": "code",
   "execution_count": 10,
   "id": "99c29462",
   "metadata": {},
   "outputs": [],
   "source": [
    "array = [\"a\", \"b\", \"c\", \"d\", \"A\", \"B\", \"C\", \"D\"]\n"
   ]
  },
  {
   "cell_type": "code",
   "execution_count": 11,
   "id": "182561b2",
   "metadata": {},
   "outputs": [
    {
     "data": {
      "text/plain": [
       "['a', 'b', 'c', 'd', 'A', 'B', 'C', 'D']"
      ]
     },
     "execution_count": 11,
     "metadata": {},
     "output_type": "execute_result"
    }
   ],
   "source": [
    "array\n",
    "\n",
    "# O \"A\" maiusculo eh considerado o min na linguagem"
   ]
  },
  {
   "cell_type": "code",
   "execution_count": 12,
   "id": "a231df99",
   "metadata": {},
   "outputs": [
    {
     "data": {
      "text/plain": [
       "'d'"
      ]
     },
     "execution_count": 12,
     "metadata": {},
     "output_type": "execute_result"
    }
   ],
   "source": [
    "max(array)"
   ]
  },
  {
   "cell_type": "code",
   "execution_count": 13,
   "id": "743ee00c",
   "metadata": {},
   "outputs": [
    {
     "data": {
      "text/plain": [
       "'A'"
      ]
     },
     "execution_count": 13,
     "metadata": {},
     "output_type": "execute_result"
    }
   ],
   "source": [
    "min(array)"
   ]
  },
  {
   "cell_type": "code",
   "execution_count": 14,
   "id": "b47442bf",
   "metadata": {},
   "outputs": [],
   "source": [
    "list1 = [23, 23, 34, 45]"
   ]
  }
 ],
 "metadata": {
  "kernelspec": {
   "display_name": "Python 3",
   "language": "python",
   "name": "python3"
  },
  "language_info": {
   "codemirror_mode": {
    "name": "ipython",
    "version": 3
   },
   "file_extension": ".py",
   "mimetype": "text/x-python",
   "name": "python",
   "nbconvert_exporter": "python",
   "pygments_lexer": "ipython3",
   "version": "3.8.8"
  }
 },
 "nbformat": 4,
 "nbformat_minor": 5
}
