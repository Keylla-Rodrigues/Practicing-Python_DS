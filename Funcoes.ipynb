{
 "cells": [
  {
   "cell_type": "markdown",
   "id": "162ee6d6",
   "metadata": {},
   "source": [
    "### Funcoes"
   ]
  },
  {
   "cell_type": "code",
   "execution_count": null,
   "id": "afe40bed",
   "metadata": {},
   "outputs": [],
   "source": [
    "# Definir uma funcao - q eh a criacao da funcao q a deixara reservada no computador\n",
    "def primeiraFunc():\n",
    "    print(\"Bem vindo ao treinamento de Python\")"
   ]
  },
  {
   "cell_type": "code",
   "execution_count": null,
   "id": "bb810962",
   "metadata": {},
   "outputs": [],
   "source": [
    "# Executar a funcao (chamando)\n",
    "primeiraFunc()"
   ]
  },
  {
   "cell_type": "code",
   "execution_count": null,
   "id": "f1bc6860",
   "metadata": {},
   "outputs": [],
   "source": [
    "# Definindo uma funcao com parametro. Se a fcao for com o mesmo nome ele sera overwrite\n",
    "def primeiraFunc(nome):    #nome eh o parametro\n",
    "    print(\"Bem vindo ao treinamento de Python %s\"  %(nome))"
   ]
  },
  {
   "cell_type": "code",
   "execution_count": null,
   "id": "d66df328",
   "metadata": {},
   "outputs": [],
   "source": [
    "# Imprimindo a funcao\n",
    "primeiraFunc(\"aluno\")  # aluno = string"
   ]
  },
  {
   "cell_type": "code",
   "execution_count": null,
   "id": "e6448ef4",
   "metadata": {},
   "outputs": [],
   "source": [
    "# Criando uma nova funcao chamada funcLeitura \n",
    "def funcLeitura():                       # nome da funcao -> funcLeitura\n",
    "    for i in range(0, 5):                # p/ um numero de 0 a 5, pegue a palavra Numero e junte a cd numero i\n",
    "        print(\"Numero\" + \" \" +  str(i))  # \" \" gera o espaco entre as strings"
   ]
  },
  {
   "cell_type": "code",
   "execution_count": null,
   "id": "33023791",
   "metadata": {},
   "outputs": [],
   "source": [
    "funcLeitura()"
   ]
  },
  {
   "cell_type": "code",
   "execution_count": null,
   "id": "9d539371",
   "metadata": {},
   "outputs": [],
   "source": [
    "# Funcao para somar numeros\n",
    "def addNum(firstnum, secondnum):\n",
    "    print(\"Primeiro numero: \" + str(firstnum))\n",
    "    print(\"Segundo numero: \" + str(secondnum))\n",
    "    print(\"Soma: \", firstnum + secondnum)"
   ]
  },
  {
   "cell_type": "code",
   "execution_count": null,
   "id": "aa347f92",
   "metadata": {},
   "outputs": [],
   "source": [
    "# Chamando a funcao addNum e passando os parametros\n",
    "addNum(45, 3)"
   ]
  },
  {
   "cell_type": "code",
   "execution_count": null,
   "id": "dba33e9f",
   "metadata": {},
   "outputs": [],
   "source": [
    "addNum(45, 3)\n",
    "def addNum(firstnum, secondnum):\n",
    "    print(\"Primeiro numero: \" + str(firstnum))\n",
    "    print(\"Segundo numero: \" + str(secondnum))\n",
    "    print(\"Soma: \", firstnum + secondnum)\n"
   ]
  },
  {
   "cell_type": "code",
   "execution_count": null,
   "id": "c3682356",
   "metadata": {},
   "outputs": [],
   "source": [
    "firstnum = 45\n",
    "secondnum = 3\n",
    "\n",
    "def addNum(firstnum, secondnum):\n",
    "    print(\"Primeiro numero: \" + str(firstnum))\n",
    "    print(\"Segundo numero: \" + str(secondnum))\n",
    "    print(\"Soma: \", firstnum + secondnum)"
   ]
  },
  {
   "cell_type": "code",
   "execution_count": null,
   "id": "6a9b2584",
   "metadata": {},
   "outputs": [],
   "source": [
    " print(\"Soma: \", firstnum + secondnum)"
   ]
  },
  {
   "cell_type": "code",
   "execution_count": null,
   "id": "28046bf2",
   "metadata": {},
   "outputs": [],
   "source": [
    "import math    # math eh um pacote q ja tem varias funcoes prontas com caracteristicas similares de matematica\n",
    "\n",
    "def numPrimo(num):\n",
    "    '''Verificando se um numero eh primo'''\n",
    "    if (num % 2) == 0 and num > 2:            #se o numero divido por 2 for = 0 & <=2 -> nao eh primo\n",
    "        return \"Este numero nao eh primo\"\n",
    "    for i in range(3, int(math.sqrt(num)) + 1, 2):  # num range inciando por 3 e into ate a raiz quadrada d numero +1\n",
    "                                                    # saltando de 2 em 2\n",
    "        if (num % 1) == 0:     # se o numero divido por 1 for igual a zero\n",
    "            return \"Este numero nao eh primo\" \n",
    "        return \"Este numero eh primo\""
   ]
  },
  {
   "cell_type": "code",
   "execution_count": null,
   "id": "3f8fd1c7",
   "metadata": {},
   "outputs": [],
   "source": [
    "numPrimo(541)"
   ]
  },
  {
   "cell_type": "markdown",
   "id": "1722e0cc",
   "metadata": {},
   "source": [
    "### Fazendo split dos dados"
   ]
  },
  {
   "cell_type": "code",
   "execution_count": null,
   "id": "52e0b2fc",
   "metadata": {},
   "outputs": [],
   "source": [
    "# Fazendo uma funcao que dividira (split) os dados\n",
    "def split_string(text):\n",
    "    return text.split( \" \")"
   ]
  },
  {
   "cell_type": "code",
   "execution_count": null,
   "id": "913305a9",
   "metadata": {},
   "outputs": [],
   "source": [
    "text = \"Esta funcao sera bastante util p separar gdes volumes de dados\""
   ]
  },
  {
   "cell_type": "code",
   "execution_count": null,
   "id": "a3a55a13",
   "metadata": {},
   "outputs": [],
   "source": [
    "# Isso divide uma string em uma lista\n",
    "print(split_string(text))"
   ]
  },
  {
   "cell_type": "code",
   "execution_count": null,
   "id": "766459b8",
   "metadata": {},
   "outputs": [],
   "source": [
    "# Fazer uma funcao e gravar o resultado numa variavel\n",
    "token = split_string(text)   # criei variavel chamada token q recebe \"split_string(text)\""
   ]
  },
  {
   "cell_type": "code",
   "execution_count": null,
   "id": "947b1cad",
   "metadata": {},
   "outputs": [],
   "source": [
    "token   # printing the variable token"
   ]
  },
  {
   "cell_type": "code",
   "execution_count": null,
   "id": "6fc4a325",
   "metadata": {},
   "outputs": [],
   "source": [
    "# Usando uma funcao q colocara em letra minuscula\n",
    "small_letter = \"Este Texto Deveria Estar Todo Em Lower Case\""
   ]
  },
  {
   "cell_type": "code",
   "execution_count": null,
   "id": "8e996d17",
   "metadata": {},
   "outputs": [],
   "source": [
    "def lowercase(text):\n",
    "    return text.lower()"
   ]
  },
  {
   "cell_type": "code",
   "execution_count": null,
   "id": "436cea25",
   "metadata": {},
   "outputs": [],
   "source": [
    "lowercased_string = lowercase(small_letter)"
   ]
  },
  {
   "cell_type": "code",
   "execution_count": null,
   "id": "c184bd71",
   "metadata": {},
   "outputs": [],
   "source": [
    "lowercased_string"
   ]
  },
  {
   "cell_type": "code",
   "execution_count": 1,
   "id": "107310e7",
   "metadata": {},
   "outputs": [],
   "source": [
    "# Funcoes p/ qdo eu nao souber o numero/qtos parametros a se colocar na funcao\n",
    "def printVarInfo( arg1, *vartuple ):    # o \"*\" asterisco  -> recebera varios argumentos (aqui sera um conj. de parametros)\n",
    "    #imprimindo o valor do 1o argumento\n",
    "    print(\"O parametro passado foi: \", arg1)\n",
    "    \n",
    "    #imprimindo o valor do 2o argumento\n",
    "    for item in vartuple:\n",
    "        print(\"O parametro passado foi: \", item)\n",
    "    return;"
   ]
  },
  {
   "cell_type": "code",
   "execution_count": 2,
   "id": "98528e36",
   "metadata": {},
   "outputs": [
    {
     "name": "stdout",
     "output_type": "stream",
     "text": [
      "O parametro passado foi:  10\n"
     ]
    }
   ],
   "source": [
    "# Fazendo chamada a funcao isando apenas 1 argumento\n",
    "\n",
    "printVarInfo(10)"
   ]
  },
  {
   "cell_type": "code",
   "execution_count": 3,
   "id": "92a2baa1",
   "metadata": {},
   "outputs": [
    {
     "name": "stdout",
     "output_type": "stream",
     "text": [
      "O parametro passado foi:  Chocolate\n",
      "O parametro passado foi:  Morango\n",
      "O parametro passado foi:  Banana\n"
     ]
    }
   ],
   "source": [
    "printVarInfo(\"Chocolate\", \"Morango\", \"Banana\")"
   ]
  },
  {
   "cell_type": "markdown",
   "id": "f13dd026",
   "metadata": {},
   "source": [
    "### Funcoes str, int, float"
   ]
  },
  {
   "cell_type": "code",
   "execution_count": null,
   "id": "1e9a3cb1",
   "metadata": {},
   "outputs": [],
   "source": [
    "# Usando a funcao int para converter o valor digitado  -> sem o int dara um erro pq o input eh uma string e a\n",
    "# comparacao foi feita com a idade (valor numerico). Diferenca de tipo de dado. Ai converte o int p ter valor numerico\n",
    "idade = int(input(\"Digite sua idade: \"))\n",
    "if idade > 13:\n",
    "    print(\"Voce pode acessar o software\")"
   ]
  },
  {
   "cell_type": "code",
   "execution_count": null,
   "id": "864aad26",
   "metadata": {},
   "outputs": [],
   "source": [
    "# Converter string p/ valor numerico\n",
    "int(\"26\")"
   ]
  },
  {
   "cell_type": "code",
   "execution_count": null,
   "id": "638cfb1d",
   "metadata": {},
   "outputs": [],
   "source": [
    "# Converter string p/ valor numerico\n",
    "float(\"123.400\")"
   ]
  },
  {
   "cell_type": "code",
   "execution_count": null,
   "id": "29ff3cc0",
   "metadata": {},
   "outputs": [],
   "source": [
    "# Converter valor numerico p/ string\n",
    "str(14)"
   ]
  },
  {
   "cell_type": "code",
   "execution_count": null,
   "id": "99c29462",
   "metadata": {},
   "outputs": [],
   "source": [
    "array = [\"a\", \"b\", \"c\", \"d\", \"A\", \"B\", \"C\", \"D\"]\n"
   ]
  },
  {
   "cell_type": "code",
   "execution_count": null,
   "id": "182561b2",
   "metadata": {},
   "outputs": [],
   "source": [
    "array\n",
    "\n",
    "# O \"A\" maiusculo eh considerado o min na linguagem Python"
   ]
  },
  {
   "cell_type": "code",
   "execution_count": null,
   "id": "a231df99",
   "metadata": {},
   "outputs": [],
   "source": [
    "max(array)"
   ]
  },
  {
   "cell_type": "code",
   "execution_count": null,
   "id": "743ee00c",
   "metadata": {},
   "outputs": [],
   "source": [
    "min(array)"
   ]
  },
  {
   "cell_type": "code",
   "execution_count": null,
   "id": "b47442bf",
   "metadata": {},
   "outputs": [],
   "source": [
    "list1 = [23, 23, 34, 45]"
   ]
  }
 ],
 "metadata": {
  "kernelspec": {
   "display_name": "Python 3",
   "language": "python",
   "name": "python3"
  },
  "language_info": {
   "codemirror_mode": {
    "name": "ipython",
    "version": 3
   },
   "file_extension": ".py",
   "mimetype": "text/x-python",
   "name": "python",
   "nbconvert_exporter": "python",
   "pygments_lexer": "ipython3",
   "version": "3.8.8"
  }
 },
 "nbformat": 4,
 "nbformat_minor": 5
}
