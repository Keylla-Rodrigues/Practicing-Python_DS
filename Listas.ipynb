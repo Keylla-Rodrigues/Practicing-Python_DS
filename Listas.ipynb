{
 "cells": [
  {
   "cell_type": "markdown",
   "id": "ff542d26",
   "metadata": {},
   "source": [
    "### Listas\n",
    "\n",
    "#### Lista = [item1, item2, ...itemz]\n",
    "#### lista eh mutavel (diferente da string)"
   ]
  },
  {
   "cell_type": "code",
   "execution_count": 1,
   "id": "a298d363",
   "metadata": {},
   "outputs": [],
   "source": [
    "# criando uma lista 1 - essa lista tem 1 string (1 elemento) com os 4 itens: \"a, b, c, d\"\n",
    "lista1 = [\"a, b, c, d\"]"
   ]
  },
  {
   "cell_type": "code",
   "execution_count": 2,
   "id": "9df9de3d",
   "metadata": {},
   "outputs": [
    {
     "name": "stdout",
     "output_type": "stream",
     "text": [
      "['a, b, c, d']\n"
     ]
    }
   ],
   "source": [
    "# imprimindo a lista 1\n",
    "print(lista1)"
   ]
  },
  {
   "cell_type": "code",
   "execution_count": 3,
   "id": "9550845b",
   "metadata": {},
   "outputs": [],
   "source": [
    "# criando uma lista 2 - essa lista tem uma 4 strings (4 elementos): \"a\", \"b\", \"c\", \"d\"\n",
    "lista2 = [\"a\", \"b\", \"c\", \"d\"]"
   ]
  },
  {
   "cell_type": "code",
   "execution_count": 4,
   "id": "fb0643fc",
   "metadata": {},
   "outputs": [
    {
     "name": "stdout",
     "output_type": "stream",
     "text": [
      "['a', 'b', 'c', 'd']\n"
     ]
    }
   ],
   "source": [
    "# imprimindo a lista 2 \n",
    "print(lista2)"
   ]
  },
  {
   "cell_type": "code",
   "execution_count": 5,
   "id": "27df47d5",
   "metadata": {},
   "outputs": [],
   "source": [
    "# criando uma lista 3 - essa lista tem elementos distintos (string, inteiro)\n",
    "lista3 = [100, 250, \"Teste\"]"
   ]
  },
  {
   "cell_type": "code",
   "execution_count": 6,
   "id": "b7e222ba",
   "metadata": {},
   "outputs": [
    {
     "name": "stdout",
     "output_type": "stream",
     "text": [
      "[100, 250, 'Teste']\n"
     ]
    }
   ],
   "source": [
    "# imprimindo a lista 3 \n",
    "print(lista3)"
   ]
  },
  {
   "cell_type": "code",
   "execution_count": 7,
   "id": "95922e19",
   "metadata": {},
   "outputs": [],
   "source": [
    "# atribuindo cada elemento da lista a uma variavel\n",
    "elemento1 =lista3[0]   # variavel chamada elemento1 recebe da lista3 o elemento de indice 0(q eh o primeiro item lista)\n",
    "elemento2 =lista3[1]   # variavel chamada elemento2 recebe da lista3 o elemento de indice 1(q eh o segundo item lista)\n",
    "elemento3 =lista3[2]   # idem"
   ]
  },
  {
   "cell_type": "code",
   "execution_count": 8,
   "id": "c0754f18",
   "metadata": {},
   "outputs": [
    {
     "name": "stdout",
     "output_type": "stream",
     "text": [
      "100 250 Teste\n"
     ]
    }
   ],
   "source": [
    "# imprimindo as variaveis\n",
    "print(elemento1, elemento2, elemento3)"
   ]
  },
  {
   "cell_type": "markdown",
   "id": "92085a47",
   "metadata": {},
   "source": [
    "### Atualizando um item da lista"
   ]
  },
  {
   "cell_type": "code",
   "execution_count": 9,
   "id": "41c11502",
   "metadata": {},
   "outputs": [
    {
     "name": "stdout",
     "output_type": "stream",
     "text": [
      "['a', 'b', 'c', 'd']\n"
     ]
    }
   ],
   "source": [
    "# imprimindo a lista2 -> lista2 = [\"a\", \"b\", \"c\", \"d\"]\n",
    "print(lista2)"
   ]
  },
  {
   "cell_type": "code",
   "execution_count": 10,
   "id": "aebb7bb9",
   "metadata": {},
   "outputs": [],
   "source": [
    "# atualizando um item (segundo) da lista2: quero substituir o item c por zero \n",
    "lista2[2] = \"0\""
   ]
  },
  {
   "cell_type": "code",
   "execution_count": 11,
   "id": "a5d73df6",
   "metadata": {},
   "outputs": [
    {
     "name": "stdout",
     "output_type": "stream",
     "text": [
      "['a', 'b', '0', 'd']\n"
     ]
    }
   ],
   "source": [
    "# imprimindo a lista2 alterada\n",
    "print(lista2)"
   ]
  },
  {
   "cell_type": "markdown",
   "id": "068c7ea1",
   "metadata": {},
   "source": [
    "### Deletando um item da lista\n",
    "#### lembrando que o index inicia-se do zero. CC tera erro \"index out of range\""
   ]
  },
  {
   "cell_type": "code",
   "execution_count": 12,
   "id": "7c1da91a",
   "metadata": {},
   "outputs": [],
   "source": [
    "# deletando um item especifico da lista2. Nesse caso o item que ocupa a posicao 3 (letra d) - questao do index x Python\n",
    "del lista2[3]"
   ]
  },
  {
   "cell_type": "code",
   "execution_count": 13,
   "id": "19d1c0d5",
   "metadata": {},
   "outputs": [
    {
     "data": {
      "text/plain": [
       "['a', 'b', '0']"
      ]
     },
     "execution_count": 13,
     "metadata": {},
     "output_type": "execute_result"
    }
   ],
   "source": [
    "# imprimindo a lista2 alterada\n",
    "#print(lista2)\n",
    "lista2"
   ]
  },
  {
   "cell_type": "markdown",
   "id": "dda2055f",
   "metadata": {},
   "source": [
    "### Lista dentro de outra lista (aninhadas)"
   ]
  },
  {
   "cell_type": "code",
   "execution_count": 14,
   "id": "c492ac59",
   "metadata": {},
   "outputs": [],
   "source": [
    "# criando uma lista dentro de uma outra lista (note que tem varios colchetes dentro d colchete geral)\n",
    "\n",
    "lista4 = [[10, 20, 30], [15, 25, 35], [3.2, 45, 8, 1.5]]\n",
    "\n",
    "        # grupo/item 0   grupo/item 1     grupo/item 3"
   ]
  },
  {
   "cell_type": "code",
   "execution_count": 15,
   "id": "19c41dd1",
   "metadata": {},
   "outputs": [
    {
     "data": {
      "text/plain": [
       "[[10, 20, 30], [15, 25, 35], [3.2, 45, 8, 1.5]]"
      ]
     },
     "execution_count": 15,
     "metadata": {},
     "output_type": "execute_result"
    }
   ],
   "source": [
    "lista4   # imprimindo a lista4"
   ]
  },
  {
   "cell_type": "code",
   "execution_count": 16,
   "id": "7ff2d69a",
   "metadata": {},
   "outputs": [],
   "source": [
    "# atribuindo um item (grupo) da lista a uma variavel\n",
    "var1 = lista4[0]   # peguei o 1o grupo/item da lista4 e coloquei na varaival criada var1"
   ]
  },
  {
   "cell_type": "code",
   "execution_count": 17,
   "id": "bf7cac6d",
   "metadata": {},
   "outputs": [
    {
     "data": {
      "text/plain": [
       "[10, 20, 30]"
      ]
     },
     "execution_count": 17,
     "metadata": {},
     "output_type": "execute_result"
    }
   ],
   "source": [
    "var1   # imprimi essa variavel criada"
   ]
  },
  {
   "cell_type": "code",
   "execution_count": 18,
   "id": "a89deb74",
   "metadata": {},
   "outputs": [],
   "source": [
    "var2 = var1[0]  #criei uma 2a variavel var2 e coloquei dentro dela apenas o 1o elemento (index 0) da var1"
   ]
  },
  {
   "cell_type": "code",
   "execution_count": 19,
   "id": "1ed95f54",
   "metadata": {},
   "outputs": [
    {
     "data": {
      "text/plain": [
       "10"
      ]
     },
     "execution_count": 19,
     "metadata": {},
     "output_type": "execute_result"
    }
   ],
   "source": [
    "var2  # imprimindo a var2 q mostrara o valor 10"
   ]
  },
  {
   "cell_type": "markdown",
   "id": "848b91d2",
   "metadata": {},
   "source": [
    "### Operacoes com listas"
   ]
  },
  {
   "cell_type": "code",
   "execution_count": 26,
   "id": "b4977b66",
   "metadata": {},
   "outputs": [],
   "source": [
    "# criando uma lista aninhada (lista dentro d lista)\n",
    "lista4 = [[10, 20, 30], [15, 25, 35], [3.2, 45, 8, 1.5]]"
   ]
  },
  {
   "cell_type": "code",
   "execution_count": 27,
   "id": "ed1dbd7f",
   "metadata": {},
   "outputs": [
    {
     "data": {
      "text/plain": [
       "[[10, 20, 30], [15, 25, 35], [3.2, 45, 8, 1.5]]"
      ]
     },
     "execution_count": 27,
     "metadata": {},
     "output_type": "execute_result"
    }
   ],
   "source": [
    "lista4"
   ]
  },
  {
   "cell_type": "code",
   "execution_count": 28,
   "id": "e88b10ff",
   "metadata": {},
   "outputs": [],
   "source": [
    "# buscando o item da linha e da coluna cujo index eh 0 (matrix)\n",
    "\n",
    "var5 = lista4[0][0]              "
   ]
  },
  {
   "cell_type": "code",
   "execution_count": 29,
   "id": "ba94c5ba",
   "metadata": {},
   "outputs": [
    {
     "data": {
      "text/plain": [
       "10"
      ]
     },
     "execution_count": 29,
     "metadata": {},
     "output_type": "execute_result"
    }
   ],
   "source": [
    "var5"
   ]
  },
  {
   "cell_type": "code",
   "execution_count": 33,
   "id": "e355d8bb",
   "metadata": {},
   "outputs": [],
   "source": [
    "# buscando o item da linha cujo index eh 1 p/ linha e 2 p/ coluna (matrix)\n",
    "\n",
    "var6 = lista4[1][2] "
   ]
  },
  {
   "cell_type": "code",
   "execution_count": 34,
   "id": "eb1177b7",
   "metadata": {},
   "outputs": [
    {
     "data": {
      "text/plain": [
       "35"
      ]
     },
     "execution_count": 34,
     "metadata": {},
     "output_type": "execute_result"
    }
   ],
   "source": [
    "var6"
   ]
  },
  {
   "cell_type": "code",
   "execution_count": 35,
   "id": "8e41a57c",
   "metadata": {},
   "outputs": [],
   "source": [
    "# fazendo operacoes item da linha cujo index eh 1 p/ linha e 2 p/ coluna (matrix)\n",
    "\n",
    "var7 = lista4[1][2] + 100"
   ]
  },
  {
   "cell_type": "code",
   "execution_count": 36,
   "id": "6a2f239d",
   "metadata": {},
   "outputs": [
    {
     "data": {
      "text/plain": [
       "135"
      ]
     },
     "execution_count": 36,
     "metadata": {},
     "output_type": "execute_result"
    }
   ],
   "source": [
    "var7"
   ]
  },
  {
   "cell_type": "markdown",
   "id": "c288cbaa",
   "metadata": {},
   "source": [
    "### Concantenando listas"
   ]
  },
  {
   "cell_type": "code",
   "execution_count": 38,
   "id": "3992e450",
   "metadata": {},
   "outputs": [],
   "source": [
    "lista4_1 = [10, 20, 30]"
   ]
  },
  {
   "cell_type": "code",
   "execution_count": 39,
   "id": "cff418d4",
   "metadata": {},
   "outputs": [
    {
     "data": {
      "text/plain": [
       "[10, 20, 30]"
      ]
     },
     "execution_count": 39,
     "metadata": {},
     "output_type": "execute_result"
    }
   ],
   "source": [
    "lista4_1"
   ]
  },
  {
   "cell_type": "code",
   "execution_count": 40,
   "id": "deb0f422",
   "metadata": {},
   "outputs": [],
   "source": [
    "lista4_2 = [15, 25, 35]"
   ]
  },
  {
   "cell_type": "code",
   "execution_count": 41,
   "id": "5fd1852d",
   "metadata": {},
   "outputs": [
    {
     "data": {
      "text/plain": [
       "[15, 25, 35]"
      ]
     },
     "execution_count": 41,
     "metadata": {},
     "output_type": "execute_result"
    }
   ],
   "source": [
    "lista4_2"
   ]
  },
  {
   "cell_type": "code",
   "execution_count": 42,
   "id": "517fa7c4",
   "metadata": {},
   "outputs": [],
   "source": [
    "lista_total = lista4_1 + lista4_2"
   ]
  },
  {
   "cell_type": "code",
   "execution_count": 43,
   "id": "253d5b34",
   "metadata": {},
   "outputs": [
    {
     "data": {
      "text/plain": [
       "[10, 20, 30, 15, 25, 35]"
      ]
     },
     "execution_count": 43,
     "metadata": {},
     "output_type": "execute_result"
    }
   ],
   "source": [
    "lista_total"
   ]
  },
  {
   "cell_type": "markdown",
   "id": "2500d963",
   "metadata": {},
   "source": [
    "### Operador in = verificar se um elemento dentro de uma lista"
   ]
  },
  {
   "cell_type": "code",
   "execution_count": 45,
   "id": "44aa8623",
   "metadata": {},
   "outputs": [],
   "source": [
    "# criando uma nova lista\n",
    "\n",
    "lista5 = [10, 30, 35, 1.2, 45, 89, -100]"
   ]
  },
  {
   "cell_type": "code",
   "execution_count": 48,
   "id": "23e4cf14",
   "metadata": {},
   "outputs": [
    {
     "name": "stdout",
     "output_type": "stream",
     "text": [
      "True\n"
     ]
    }
   ],
   "source": [
    "# verificando se o valor 15 pertence a lista\n",
    "print(1.2 in lista5)"
   ]
  },
  {
   "cell_type": "code",
   "execution_count": 49,
   "id": "5628d6bb",
   "metadata": {},
   "outputs": [
    {
     "name": "stdout",
     "output_type": "stream",
     "text": [
      "False\n"
     ]
    }
   ],
   "source": [
    "# verificando se o valor 90 pertence a lista\n",
    "print(90 in lista5)"
   ]
  },
  {
   "cell_type": "markdown",
   "id": "fbd0d7d0",
   "metadata": {},
   "source": [
    "### Funcoes Built-in (tam, max, min, add item na lista \".append\")"
   ]
  },
  {
   "cell_type": "code",
   "execution_count": 50,
   "id": "133edcd0",
   "metadata": {},
   "outputs": [
    {
     "data": {
      "text/plain": [
       "7"
      ]
     },
     "execution_count": 50,
     "metadata": {},
     "output_type": "execute_result"
    }
   ],
   "source": [
    "# funcao para saber o tamanho da lista -> len()\n",
    "len(lista5)"
   ]
  },
  {
   "cell_type": "code",
   "execution_count": 55,
   "id": "5ab7698e",
   "metadata": {},
   "outputs": [
    {
     "data": {
      "text/plain": [
       "1"
      ]
     },
     "execution_count": 55,
     "metadata": {},
     "output_type": "execute_result"
    }
   ],
   "source": [
    "# contando qtos items tem na lista5 = [10, 30, 35, 1.2, 45, 89, -100]\n",
    "lista5.count(\"teste\")"
   ]
  },
  {
   "cell_type": "code",
   "execution_count": 51,
   "id": "644abf5f",
   "metadata": {},
   "outputs": [
    {
     "data": {
      "text/plain": [
       "89"
      ]
     },
     "execution_count": 51,
     "metadata": {},
     "output_type": "execute_result"
    }
   ],
   "source": [
    "# funcao para saber o o valor max da lista -> max()\n",
    "max(lista5)"
   ]
  },
  {
   "cell_type": "code",
   "execution_count": 52,
   "id": "27b8cbb3",
   "metadata": {},
   "outputs": [
    {
     "data": {
      "text/plain": [
       "-100"
      ]
     },
     "execution_count": 52,
     "metadata": {},
     "output_type": "execute_result"
    }
   ],
   "source": [
    "# funcao para saber o o valor min da lista -> min()\n",
    "min(lista5)"
   ]
  },
  {
   "cell_type": "code",
   "execution_count": 53,
   "id": "c532a644",
   "metadata": {},
   "outputs": [],
   "source": [
    "# adicionando um item na lista5 = [10, 30, 35, 1.2, 45, 89, -100]\n",
    "lista5.append(\"teste\")"
   ]
  },
  {
   "cell_type": "code",
   "execution_count": 56,
   "id": "c12c79ad",
   "metadata": {},
   "outputs": [
    {
     "data": {
      "text/plain": [
       "[10, 30, 35, 1.2, 45, 89, -100, 'teste']"
      ]
     },
     "execution_count": 56,
     "metadata": {},
     "output_type": "execute_result"
    }
   ],
   "source": [
    "lista5"
   ]
  },
  {
   "cell_type": "code",
   "execution_count": 59,
   "id": "1a423397",
   "metadata": {},
   "outputs": [
    {
     "data": {
      "text/plain": [
       "list"
      ]
     },
     "execution_count": 59,
     "metadata": {},
     "output_type": "execute_result"
    }
   ],
   "source": [
    "# verificando q tipo\n",
    "type(lista5)   "
   ]
  },
  {
   "cell_type": "code",
   "execution_count": 57,
   "id": "35472cac",
   "metadata": {},
   "outputs": [],
   "source": [
    "# criando uma lista vazia\n",
    "lista6 = []"
   ]
  },
  {
   "cell_type": "code",
   "execution_count": 58,
   "id": "aafb3d78",
   "metadata": {},
   "outputs": [
    {
     "data": {
      "text/plain": [
       "[]"
      ]
     },
     "execution_count": 58,
     "metadata": {},
     "output_type": "execute_result"
    }
   ],
   "source": [
    "lista6"
   ]
  },
  {
   "cell_type": "code",
   "execution_count": 60,
   "id": "e8cf4f5b",
   "metadata": {},
   "outputs": [],
   "source": [
    "# nessa lista vazia adicionarei o numero 100\n",
    "lista6.append(100)"
   ]
  },
  {
   "cell_type": "code",
   "execution_count": 61,
   "id": "479ec201",
   "metadata": {},
   "outputs": [
    {
     "data": {
      "text/plain": [
       "[100]"
      ]
     },
     "execution_count": 61,
     "metadata": {},
     "output_type": "execute_result"
    }
   ],
   "source": [
    "lista6"
   ]
  },
  {
   "cell_type": "code",
   "execution_count": 62,
   "id": "9d44be46",
   "metadata": {},
   "outputs": [],
   "source": [
    "# nessa lista que havia adicionado o numero 100, adicionarei mais 50\n",
    "lista6.append(50)"
   ]
  },
  {
   "cell_type": "code",
   "execution_count": 63,
   "id": "d08871a2",
   "metadata": {},
   "outputs": [
    {
     "data": {
      "text/plain": [
       "[100, 50]"
      ]
     },
     "execution_count": 63,
     "metadata": {},
     "output_type": "execute_result"
    }
   ],
   "source": [
    "# imprimindo a lista6 que foi adicionada 100 e depois 50 (construindo uma lista)\n",
    "lista6"
   ]
  },
  {
   "cell_type": "code",
   "execution_count": 64,
   "id": "8bf8a01b",
   "metadata": {},
   "outputs": [],
   "source": [
    "# copiando os items de uma lista para outra lista\n",
    "lista_anterior = [10, 30, 35, 1.2, 45, 89, -100]"
   ]
  },
  {
   "cell_type": "code",
   "execution_count": 65,
   "id": "7c53bf69",
   "metadata": {},
   "outputs": [],
   "source": [
    "lista_nova = []"
   ]
  },
  {
   "cell_type": "code",
   "execution_count": 67,
   "id": "eb45439c",
   "metadata": {},
   "outputs": [],
   "source": [
    "#copiando os items da lista anterior para a lista_nova\n",
    "for item in lista_anterior:\n",
    "    lista_nova.append(item)"
   ]
  },
  {
   "cell_type": "code",
   "execution_count": 68,
   "id": "3c631ca0",
   "metadata": {},
   "outputs": [
    {
     "data": {
      "text/plain": [
       "[10, 30, 35, 1.2, 45, 89, -100]"
      ]
     },
     "execution_count": 68,
     "metadata": {},
     "output_type": "execute_result"
    }
   ],
   "source": [
    "lista_nova"
   ]
  },
  {
   "cell_type": "code",
   "execution_count": 72,
   "id": "201aeb09",
   "metadata": {},
   "outputs": [
    {
     "name": "stdout",
     "output_type": "stream",
     "text": [
      "['Langley', 'Burnaby', 'Vancouver', 'North Van', 'Cloverdale']\n"
     ]
    }
   ],
   "source": [
    "# juntando duas listas e \n",
    "\n",
    "city = [\"Langley\", \"Burnaby\", \"Vancouver\"]\n",
    "city.extend([\"North Van\", \"Cloverdale\"])\n",
    "print(city)"
   ]
  },
  {
   "cell_type": "code",
   "execution_count": 73,
   "id": "37963d25",
   "metadata": {},
   "outputs": [
    {
     "data": {
      "text/plain": [
       "2"
      ]
     },
     "execution_count": 73,
     "metadata": {},
     "output_type": "execute_result"
    }
   ],
   "source": [
    "# sabendo qual eh o indice de um determinado elemento numa lista\n",
    "city.index(\"Vancouver\")"
   ]
  },
  {
   "cell_type": "code",
   "execution_count": 74,
   "id": "dc719e19",
   "metadata": {},
   "outputs": [],
   "source": [
    "# inserindo um elemento especifico na lista (city) \n",
    "# nesse caso quero inserir na posicao do indice 3, o numero 200 (antes North Van)\n",
    "city.insert(3, 200)"
   ]
  },
  {
   "cell_type": "code",
   "execution_count": 75,
   "id": "10e12699",
   "metadata": {},
   "outputs": [
    {
     "data": {
      "text/plain": [
       "['Langley', 'Burnaby', 'Vancouver', 200, 'North Van', 'Cloverdale']"
      ]
     },
     "execution_count": 75,
     "metadata": {},
     "output_type": "execute_result"
    }
   ],
   "source": [
    "city"
   ]
  },
  {
   "cell_type": "code",
   "execution_count": 76,
   "id": "85b533cd",
   "metadata": {},
   "outputs": [],
   "source": [
    "# remover um item da lista\n",
    "city.remove(200)"
   ]
  },
  {
   "cell_type": "code",
   "execution_count": 77,
   "id": "cc28d4cc",
   "metadata": {},
   "outputs": [
    {
     "data": {
      "text/plain": [
       "['Langley', 'Burnaby', 'Vancouver', 'North Van', 'Cloverdale']"
      ]
     },
     "execution_count": 77,
     "metadata": {},
     "output_type": "execute_result"
    }
   ],
   "source": [
    "city"
   ]
  },
  {
   "cell_type": "code",
   "execution_count": 78,
   "id": "50a1d1b7",
   "metadata": {},
   "outputs": [],
   "source": [
    "# reverter a lista (colocar de tras p/ frente)\n",
    "city.reverse()"
   ]
  },
  {
   "cell_type": "code",
   "execution_count": 79,
   "id": "33103eca",
   "metadata": {},
   "outputs": [
    {
     "data": {
      "text/plain": [
       "['Cloverdale', 'North Van', 'Vancouver', 'Burnaby', 'Langley']"
      ]
     },
     "execution_count": 79,
     "metadata": {},
     "output_type": "execute_result"
    }
   ],
   "source": [
    "city"
   ]
  },
  {
   "cell_type": "code",
   "execution_count": 81,
   "id": "e7c173c6",
   "metadata": {},
   "outputs": [],
   "source": [
    "# ordenar uma lista - > usarei a lista_anterior = [10, 30, 35, 1.2, 45, 89, -100]\n",
    "\n",
    "lista_anterior.sort()"
   ]
  },
  {
   "cell_type": "code",
   "execution_count": 82,
   "id": "75be3821",
   "metadata": {},
   "outputs": [
    {
     "data": {
      "text/plain": [
       "[-100, 1.2, 10, 30, 35, 45, 89]"
      ]
     },
     "execution_count": 82,
     "metadata": {},
     "output_type": "execute_result"
    }
   ],
   "source": [
    "# lista ordenada\n",
    "lista_anterior"
   ]
  }
 ],
 "metadata": {
  "kernelspec": {
   "display_name": "Python 3",
   "language": "python",
   "name": "python3"
  },
  "language_info": {
   "codemirror_mode": {
    "name": "ipython",
    "version": 3
   },
   "file_extension": ".py",
   "mimetype": "text/x-python",
   "name": "python",
   "nbconvert_exporter": "python",
   "pygments_lexer": "ipython3",
   "version": "3.8.8"
  }
 },
 "nbformat": 4,
 "nbformat_minor": 5
}
