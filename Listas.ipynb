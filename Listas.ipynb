{
 "cells": [
  {
   "cell_type": "markdown",
   "id": "ff542d26",
   "metadata": {},
   "source": [
    "### Listas\n",
    "\n",
    "#### Lista = [item1, item2, ...itemz]\n",
    "#### lista eh mutavel (diferente da string)"
   ]
  },
  {
   "cell_type": "code",
   "execution_count": 1,
   "id": "a298d363",
   "metadata": {},
   "outputs": [],
   "source": [
    "# criando uma lista 1 - essa lista tem 1 string (1 elemento) com os 4 itens: \"a, b, c, d\"\n",
    "lista1 = [\"a, b, c, d\"]"
   ]
  },
  {
   "cell_type": "code",
   "execution_count": 2,
   "id": "9df9de3d",
   "metadata": {},
   "outputs": [
    {
     "name": "stdout",
     "output_type": "stream",
     "text": [
      "['a, b, c, d']\n"
     ]
    }
   ],
   "source": [
    "# imprimindo a lista 1\n",
    "print(lista1)"
   ]
  },
  {
   "cell_type": "code",
   "execution_count": 3,
   "id": "9550845b",
   "metadata": {},
   "outputs": [],
   "source": [
    "# criando uma lista 2 - essa lista tem uma 4 strings (4 elementos): \"a\", \"b\", \"c\", \"d\"\n",
    "lista2 = [\"a\", \"b\", \"c\", \"d\"]"
   ]
  },
  {
   "cell_type": "code",
   "execution_count": 4,
   "id": "fb0643fc",
   "metadata": {},
   "outputs": [
    {
     "name": "stdout",
     "output_type": "stream",
     "text": [
      "['a', 'b', 'c', 'd']\n"
     ]
    }
   ],
   "source": [
    "# imprimindo a lista 2 \n",
    "print(lista2)"
   ]
  },
  {
   "cell_type": "code",
   "execution_count": 5,
   "id": "27df47d5",
   "metadata": {},
   "outputs": [],
   "source": [
    "# criando uma lista 3 - essa lista tem elementos distintos\n",
    "lista3 = [100, 250, \"Teste\"]"
   ]
  },
  {
   "cell_type": "code",
   "execution_count": 6,
   "id": "b7e222ba",
   "metadata": {},
   "outputs": [
    {
     "name": "stdout",
     "output_type": "stream",
     "text": [
      "[100, 250, 'Teste']\n"
     ]
    }
   ],
   "source": [
    "# imprimindo a lista 3 \n",
    "print(lista3)"
   ]
  },
  {
   "cell_type": "code",
   "execution_count": 7,
   "id": "95922e19",
   "metadata": {},
   "outputs": [],
   "source": [
    "# atribuindo cada elemento da lista a uma variavel\n",
    "elemento1 =lista3[0]   # variavel chamada elemento1 recebe da lista3 o elemento de indice 0(q eh o primeiro item lista)\n",
    "elemento2 =lista3[1]   # variavel chamada elemento2 recebe da lista3 o elemento de indice 1(q eh o segundo item lista)\n",
    "elemento3 =lista3[2]   # idem"
   ]
  },
  {
   "cell_type": "code",
   "execution_count": 10,
   "id": "c0754f18",
   "metadata": {},
   "outputs": [
    {
     "name": "stdout",
     "output_type": "stream",
     "text": [
      "100 250 Teste\n"
     ]
    }
   ],
   "source": [
    "# imprimindo as variaveis\n",
    "print(elemento1, elemento2, elemento3)"
   ]
  },
  {
   "cell_type": "markdown",
   "id": "92085a47",
   "metadata": {},
   "source": [
    "### Atualizando um item da lista"
   ]
  },
  {
   "cell_type": "code",
   "execution_count": 14,
   "id": "41c11502",
   "metadata": {},
   "outputs": [
    {
     "name": "stdout",
     "output_type": "stream",
     "text": [
      "['a', 'b', 'c', 'd']\n"
     ]
    }
   ],
   "source": [
    "# imprimindo um item da lista2 -> lista2 = [\"a\", \"b\", \"c\", \"d\"]\n",
    "print(lista2)"
   ]
  },
  {
   "cell_type": "code",
   "execution_count": 16,
   "id": "aebb7bb9",
   "metadata": {},
   "outputs": [],
   "source": [
    "# atualizando um item (segundo) da lista2: quero substituir o valor 250 por zero \n",
    "lista2[2] = \"0\""
   ]
  },
  {
   "cell_type": "code",
   "execution_count": 17,
   "id": "a5d73df6",
   "metadata": {},
   "outputs": [
    {
     "name": "stdout",
     "output_type": "stream",
     "text": [
      "['a', 'b', '0', 'd']\n"
     ]
    }
   ],
   "source": [
    "# imprimindo a lista2 alterada\n",
    "print(lista2)"
   ]
  },
  {
   "cell_type": "markdown",
   "id": "068c7ea1",
   "metadata": {},
   "source": [
    "### Deletando um item da lista\n",
    "#### lembrando que o index inicia-se do zero. CC tera erro \"index out of range\""
   ]
  },
  {
   "cell_type": "code",
   "execution_count": 19,
   "id": "7c1da91a",
   "metadata": {},
   "outputs": [],
   "source": [
    "# deletando um item especifico da lista2. Nesse caso o item que ocupa a posicao 3 (4a item) - questao do index x Python\n",
    "del lista2[3]"
   ]
  },
  {
   "cell_type": "code",
   "execution_count": 21,
   "id": "19d1c0d5",
   "metadata": {},
   "outputs": [
    {
     "data": {
      "text/plain": [
       "['a', 'b', '0']"
      ]
     },
     "execution_count": 21,
     "metadata": {},
     "output_type": "execute_result"
    }
   ],
   "source": [
    "# imprimindo a lista2 alterada\n",
    "#print(lista2)\n",
    "lista2"
   ]
  },
  {
   "cell_type": "markdown",
   "id": "dda2055f",
   "metadata": {},
   "source": [
    "### Lista dentro de outra lista (aninhadas)"
   ]
  },
  {
   "cell_type": "code",
   "execution_count": 22,
   "id": "c492ac59",
   "metadata": {},
   "outputs": [],
   "source": [
    "# criando uma lista dentro de uma outra lista (note que tem varios colchetes dentro d colchete geral)\n",
    "\n",
    "lista4 = [[10, 20, 30], [15, 25, 35], [3.2, 45, 8, 1.5]]\n",
    "\n",
    "        # grupo/item 0   grupo/item 1     grupo/item 3"
   ]
  },
  {
   "cell_type": "code",
   "execution_count": 23,
   "id": "19c41dd1",
   "metadata": {},
   "outputs": [
    {
     "data": {
      "text/plain": [
       "[[10, 20, 30], [15, 25, 35], [3.2, 45, 8, 1.5]]"
      ]
     },
     "execution_count": 23,
     "metadata": {},
     "output_type": "execute_result"
    }
   ],
   "source": [
    "lista4   # imprimindo a lista4"
   ]
  },
  {
   "cell_type": "code",
   "execution_count": 24,
   "id": "7ff2d69a",
   "metadata": {},
   "outputs": [],
   "source": [
    "# atribuindo um item (grupo) da lista a uma variavel\n",
    "var1 = lista4[0]   # peguei o 1o grupo/item da lista4 e coloquei na varaival criada var1"
   ]
  },
  {
   "cell_type": "code",
   "execution_count": 25,
   "id": "bf7cac6d",
   "metadata": {},
   "outputs": [
    {
     "data": {
      "text/plain": [
       "[10, 20, 30]"
      ]
     },
     "execution_count": 25,
     "metadata": {},
     "output_type": "execute_result"
    }
   ],
   "source": [
    "var1   # imprimi essa variavel criada"
   ]
  },
  {
   "cell_type": "code",
   "execution_count": 27,
   "id": "a89deb74",
   "metadata": {},
   "outputs": [],
   "source": [
    "var2 = var1[0]  #criei uma 2a varaivel var2 e coloquei dentro dela apenas o 1o elemento (index 0) da var1"
   ]
  },
  {
   "cell_type": "code",
   "execution_count": 28,
   "id": "1ed95f54",
   "metadata": {},
   "outputs": [
    {
     "data": {
      "text/plain": [
       "10"
      ]
     },
     "execution_count": 28,
     "metadata": {},
     "output_type": "execute_result"
    }
   ],
   "source": [
    "var2  # imprimindo a var2 q mostrara o valor 10"
   ]
  },
  {
   "cell_type": "code",
   "execution_count": null,
   "id": "e6c1ab58",
   "metadata": {},
   "outputs": [],
   "source": []
  }
 ],
 "metadata": {
  "kernelspec": {
   "display_name": "Python 3",
   "language": "python",
   "name": "python3"
  },
  "language_info": {
   "codemirror_mode": {
    "name": "ipython",
    "version": 3
   },
   "file_extension": ".py",
   "mimetype": "text/x-python",
   "name": "python",
   "nbconvert_exporter": "python",
   "pygments_lexer": "ipython3",
   "version": "3.8.8"
  }
 },
 "nbformat": 4,
 "nbformat_minor": 5
}
