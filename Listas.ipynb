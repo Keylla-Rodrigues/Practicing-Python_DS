{
 "cells": [
  {
   "cell_type": "markdown",
   "id": "ff542d26",
   "metadata": {},
   "source": [
    "### Listas\n",
    "\n",
    "#### Lista = [item1, item2, ...itemz]"
   ]
  },
  {
   "cell_type": "code",
   "execution_count": 1,
   "id": "a298d363",
   "metadata": {},
   "outputs": [],
   "source": [
    "# criando uma lista 1 - essa lista tem 1 string (1 elemento) com os 4 itens: \"a, b, c, d\"\n",
    "lista1 = [\"a, b, c, d\"]"
   ]
  },
  {
   "cell_type": "code",
   "execution_count": 2,
   "id": "9df9de3d",
   "metadata": {},
   "outputs": [
    {
     "name": "stdout",
     "output_type": "stream",
     "text": [
      "['a, b, c, d']\n"
     ]
    }
   ],
   "source": [
    "# imprimindo a lista 1\n",
    "print(lista1)"
   ]
  },
  {
   "cell_type": "code",
   "execution_count": 5,
   "id": "9550845b",
   "metadata": {},
   "outputs": [],
   "source": [
    "# criando uma lista 2 - essa lista tem uma 4 strings (4 elementos): \"a\", \"b\", \"c\", \"d\"\n",
    "lista2 = [\"a\", \"b\", \"c\", \"d\"]"
   ]
  },
  {
   "cell_type": "code",
   "execution_count": 7,
   "id": "fb0643fc",
   "metadata": {},
   "outputs": [
    {
     "name": "stdout",
     "output_type": "stream",
     "text": [
      "['a', 'b', 'c', 'd']\n"
     ]
    }
   ],
   "source": [
    "# imprimindo a lista 2 \n",
    "print(lista2)"
   ]
  },
  {
   "cell_type": "code",
   "execution_count": 8,
   "id": "27df47d5",
   "metadata": {},
   "outputs": [],
   "source": [
    "# criando uma lista 3 - essa lista tem elementos distintos\n",
    "lista3 = [100, 250, \"Teste\"]"
   ]
  },
  {
   "cell_type": "code",
   "execution_count": 10,
   "id": "b7e222ba",
   "metadata": {},
   "outputs": [
    {
     "name": "stdout",
     "output_type": "stream",
     "text": [
      "[100, 250, 'Teste']\n"
     ]
    }
   ],
   "source": [
    "# imprimindo a lista 3 \n",
    "print(lista3)"
   ]
  },
  {
   "cell_type": "code",
   "execution_count": null,
   "id": "95922e19",
   "metadata": {},
   "outputs": [],
   "source": [
    "# atribuir cada elemento da lista a uma variavel\n",
    "elemento1 =lista3[0]   # variavel chamada elemento1 recebe da lista3 o elemento de indice 0(q eh o primeiro item lista)\n",
    "elemento2 =lista3[1]   # variavel chamada elemento2 recebe da lista3 o elemento de indice 1(q eh o segundo item lista)\n",
    "elemento3 =lista3[2]"
   ]
  }
 ],
 "metadata": {
  "kernelspec": {
   "display_name": "Python 3",
   "language": "python",
   "name": "python3"
  },
  "language_info": {
   "codemirror_mode": {
    "name": "ipython",
    "version": 3
   },
   "file_extension": ".py",
   "mimetype": "text/x-python",
   "name": "python",
   "nbconvert_exporter": "python",
   "pygments_lexer": "ipython3",
   "version": "3.8.8"
  }
 },
 "nbformat": 4,
 "nbformat_minor": 5
}
