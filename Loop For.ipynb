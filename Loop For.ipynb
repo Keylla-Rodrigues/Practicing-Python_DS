{
 "cells": [
  {
   "cell_type": "markdown",
   "id": "aba228ca",
   "metadata": {},
   "source": [
    "### Loop For"
   ]
  },
  {
   "cell_type": "code",
   "execution_count": 1,
   "id": "5a5b45d9",
   "metadata": {},
   "outputs": [
    {
     "name": "stdout",
     "output_type": "stream",
     "text": [
      "2\n",
      "3\n",
      "4\n"
     ]
    }
   ],
   "source": [
    "# Criando uma tupla e verificando se o \"item\" esta dentro desta tupla ()\n",
    "tupla = (2, 3, 4)\n",
    "for i in tupla:              # i eh um item dentro desta tupla\n",
    "    print(i)"
   ]
  },
  {
   "cell_type": "code",
   "execution_count": 2,
   "id": "745c7fb4",
   "metadata": {},
   "outputs": [
    {
     "name": "stdout",
     "output_type": "stream",
     "text": [
      "A\n",
      "B\n",
      "C\n"
     ]
    }
   ],
   "source": [
    "# Criando uma lista e verificando se o \"item\" esta dentro desta lista []\n",
    "lista = [\"A\", \"B\", \"C\"]\n",
    "for i in lista:\n",
    "    print(i)"
   ]
  },
  {
   "cell_type": "code",
   "execution_count": 5,
   "id": "399ef773",
   "metadata": {},
   "outputs": [
    {
     "name": "stdout",
     "output_type": "stream",
     "text": [
      "0\n",
      "1\n",
      "2\n",
      "3\n"
     ]
    }
   ],
   "source": [
    "# Range -> permite criar um range de valores\n",
    "for contador in range(0,4):\n",
    "    print(contador)"
   ]
  },
  {
   "cell_type": "code",
   "execution_count": 9,
   "id": "2b3a6753",
   "metadata": {},
   "outputs": [
    {
     "name": "stdout",
     "output_type": "stream",
     "text": [
      "2\n",
      "4\n",
      "6\n",
      "8\n",
      "10\n"
     ]
    }
   ],
   "source": [
    "# Imprimindo os numeros pares da lista d numeros\n",
    "\n",
    "lista2 = [1,2,3,4,5,6,7,8,9,10]\n",
    "for num in lista2:        # p/ um item que esta nesta lista 2 \n",
    "    if num % 2 == 0:      # se esse num divido por 2 for igual a zero\n",
    "        print(num)        # imprima esse numero"
   ]
  },
  {
   "cell_type": "code",
   "execution_count": 7,
   "id": "8dd1fb4b",
   "metadata": {},
   "outputs": [
    {
     "name": "stdout",
     "output_type": "stream",
     "text": [
      "1\n",
      "3\n",
      "5\n",
      "7\n",
      "9\n"
     ]
    }
   ],
   "source": [
    "# Imprimindo os numeros impares da lista d numeros\n",
    "\n",
    "lista2 = [1,2,3,4,5,6,7,8,9,10]\n",
    "for num in lista2:        # p/ um item que esta nesta lista 2 \n",
    "    if num % 2 != 0:      # se esse num divido por 2 for diferente d zero (% -> modulo...5%2->1)\n",
    "        print(num)        # imprima esse numero"
   ]
  },
  {
   "cell_type": "code",
   "execution_count": 13,
   "id": "9fbd2662",
   "metadata": {},
   "outputs": [
    {
     "name": "stdout",
     "output_type": "stream",
     "text": [
      "0\n",
      "30\n",
      "60\n",
      "90\n"
     ]
    }
   ],
   "source": [
    "# Listando os numeros entre 0 e 101, com incremento em 30\n",
    "for i in range(0,101,30):\n",
    "    print(i)"
   ]
  },
  {
   "cell_type": "code",
   "execution_count": 1,
   "id": "8867a790",
   "metadata": {},
   "outputs": [
    {
     "name": "stdout",
     "output_type": "stream",
     "text": [
      "t\n",
      "e\n",
      "s\n",
      "t\n"
     ]
    }
   ],
   "source": [
    "# Strings tambem sao sequenciais\n",
    "for character in \"test\":\n",
    "    print(character)"
   ]
  },
  {
   "cell_type": "markdown",
   "id": "ec099ea0",
   "metadata": {},
   "source": [
    "### Loops Aninhados"
   ]
  },
  {
   "cell_type": "code",
   "execution_count": 3,
   "id": "0f1a369d",
   "metadata": {},
   "outputs": [
    {
     "name": "stdout",
     "output_type": "stream",
     "text": [
      "0\n",
      "1\n",
      "2\n",
      "3\n",
      "4\n",
      "0\n",
      "1\n",
      "2\n",
      "3\n",
      "4\n",
      "0\n",
      "1\n",
      "2\n",
      "3\n",
      "4\n",
      "0\n",
      "1\n",
      "2\n",
      "3\n",
      "4\n",
      "0\n",
      "1\n",
      "2\n",
      "3\n",
      "4\n"
     ]
    }
   ],
   "source": [
    "# Loops aninhados                         \n",
    "for i in range(0, 5):                  # p/ um item dentro do range 0-5, gere outra repeticao nesse mesmo range\n",
    "    for a in range(0, 5):\n",
    "        print(a)"
   ]
  },
  {
   "cell_type": "code",
   "execution_count": 7,
   "id": "ac0c7161",
   "metadata": {},
   "outputs": [
    {
     "name": "stdout",
     "output_type": "stream",
     "text": [
      "462\n"
     ]
    }
   ],
   "source": [
    "# Operando os valores de uma lista com loop for\n",
    "lista1 = [32, 53, 85, 10, 15, 17, 19]\n",
    "soma = 0\n",
    "for i in lista1:\n",
    "        double_i = i * 2              # double_i eh uma variavel local q recebera cd elemento da lista * 2\n",
    "        soma += double_i              # soma eh uma variavel global / \"+=\"...pega a var double_i e vai add a variavel soma\n",
    "# a variavel soma sera adicionada ao double_i q sera salva na variavel soma\n",
    "        \n",
    "print(soma)    # soma (32*2 = 64, 53*2 +64, 85*2 + last result...)"
   ]
  },
  {
   "cell_type": "code",
   "execution_count": 8,
   "id": "7eb9fe75",
   "metadata": {},
   "outputs": [
    {
     "name": "stdout",
     "output_type": "stream",
     "text": [
      "[1, 2, 3]\n",
      "[10, 15, 14]\n",
      "[10.1, 8.7, 2.3]\n"
     ]
    }
   ],
   "source": [
    "# Loops em lista de lista\n",
    "listas = [[1, 2, 3], [10, 15, 14], [10.1, 8.7, 2.3]]\n",
    "for valor in listas:\n",
    "    print(valor)"
   ]
  },
  {
   "cell_type": "code",
   "execution_count": 9,
   "id": "2519e595",
   "metadata": {},
   "outputs": [
    {
     "name": "stdout",
     "output_type": "stream",
     "text": [
      "5\n"
     ]
    }
   ],
   "source": [
    "# Contando os items de uma lista\n",
    "lista = [5, 6, 10, 13, 17]\n",
    "count = 0                                         \n",
    "for item in lista:\n",
    "    count += 1\n",
    "print(count)"
   ]
  },
  {
   "cell_type": "code",
   "execution_count": 1,
   "id": "214947ca",
   "metadata": {},
   "outputs": [
    {
     "name": "stdout",
     "output_type": "stream",
     "text": [
      "3\n"
     ]
    }
   ],
   "source": [
    "# Contando o numero de colunas\n",
    "lst = [[1, 2, 3], [3, 4, 5], [5, 6, 7]]\n",
    "primeira_linha = lst[0]\n",
    "count = 0\n",
    "for column in primeira_linha:\n",
    "    count = count + 1\n",
    "print(count)"
   ]
  },
  {
   "cell_type": "code",
   "execution_count": 4,
   "id": "38c0b43b",
   "metadata": {},
   "outputs": [
    {
     "name": "stdout",
     "output_type": "stream",
     "text": [
      "Numero encontrado na lista.\n"
     ]
    }
   ],
   "source": [
    "# Pesquisando em listas\n",
    "listac = [5, 6, 7, 10, 50]\n",
    "\n",
    "# Loop atraves da lista\n",
    "for item in listac:\n",
    "    if item == 5:\n",
    "        print(\"Numero encontrado na lista.\")"
   ]
  },
  {
   "cell_type": "code",
   "execution_count": 3,
   "id": "d0d92f29",
   "metadata": {},
   "outputs": [
    {
     "name": "stdout",
     "output_type": "stream",
     "text": [
      "k1\n",
      "k2\n",
      "k3\n"
     ]
    }
   ],
   "source": [
    "# Listando as chaves de um dicionario\n",
    "dict = {\"k1\": \"Python\", \"k2\": \"R\", \"k3\": \"Scala\"}              # o item aqui eh o 'K'\n",
    "for item in dict:\n",
    "    print(item)"
   ]
  },
  {
   "cell_type": "code",
   "execution_count": 6,
   "id": "42ff3d0c",
   "metadata": {},
   "outputs": [
    {
     "name": "stdout",
     "output_type": "stream",
     "text": [
      "k1 Python\n",
      "k2 R\n",
      "k3 Scala\n"
     ]
    }
   ],
   "source": [
    "# Imprimindo chave e valor do dicionario. Usando o metodo items() p/ retornar os itens de um dicionario\n",
    "for k, v in dict.items():              # retorna a dupla\n",
    "    print(k,v)"
   ]
  }
 ],
 "metadata": {
  "kernelspec": {
   "display_name": "Python 3",
   "language": "python",
   "name": "python3"
  },
  "language_info": {
   "codemirror_mode": {
    "name": "ipython",
    "version": 3
   },
   "file_extension": ".py",
   "mimetype": "text/x-python",
   "name": "python",
   "nbconvert_exporter": "python",
   "pygments_lexer": "ipython3",
   "version": "3.8.8"
  }
 },
 "nbformat": 4,
 "nbformat_minor": 5
}
