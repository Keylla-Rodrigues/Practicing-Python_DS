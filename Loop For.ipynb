{
 "cells": [
  {
   "cell_type": "markdown",
   "id": "aba228ca",
   "metadata": {},
   "source": [
    "### Loop For"
   ]
  },
  {
   "cell_type": "code",
   "execution_count": 1,
   "id": "5a5b45d9",
   "metadata": {},
   "outputs": [
    {
     "name": "stdout",
     "output_type": "stream",
     "text": [
      "2\n",
      "3\n",
      "4\n"
     ]
    }
   ],
   "source": [
    "# Criando uma tupla e verificando se o \"item\" esta dentro desta tupla ()\n",
    "tupla = (2, 3, 4)\n",
    "for i in tupla:              # i eh um item dentro desta tupla\n",
    "    print(i)"
   ]
  },
  {
   "cell_type": "code",
   "execution_count": 2,
   "id": "745c7fb4",
   "metadata": {},
   "outputs": [
    {
     "name": "stdout",
     "output_type": "stream",
     "text": [
      "A\n",
      "B\n",
      "C\n"
     ]
    }
   ],
   "source": [
    "# Criando uma lista e verificando se o \"item\" esta dentro desta lista []\n",
    "lista = [\"A\", \"B\", \"C\"]\n",
    "for i in lista:\n",
    "    print(i)"
   ]
  },
  {
   "cell_type": "code",
   "execution_count": 5,
   "id": "399ef773",
   "metadata": {},
   "outputs": [
    {
     "name": "stdout",
     "output_type": "stream",
     "text": [
      "0\n",
      "1\n",
      "2\n",
      "3\n"
     ]
    }
   ],
   "source": [
    "# Range -> permite criar um range de valores\n",
    "for contador in range(0,4):\n",
    "    print(contador)"
   ]
  },
  {
   "cell_type": "code",
   "execution_count": 9,
   "id": "2b3a6753",
   "metadata": {},
   "outputs": [
    {
     "name": "stdout",
     "output_type": "stream",
     "text": [
      "2\n",
      "4\n",
      "6\n",
      "8\n",
      "10\n"
     ]
    }
   ],
   "source": [
    "# Imprimindo os numeros pares da lista d numeros\n",
    "\n",
    "lista2 = [1,2,3,4,5,6,7,8,9,10]\n",
    "for num in lista2:        # p/ um item que esta nesta lista 2 \n",
    "    if num % 2 == 0:      # se esse num divido por 2 for igual a zero\n",
    "        print(num)        # imprima esse numero"
   ]
  },
  {
   "cell_type": "code",
   "execution_count": 7,
   "id": "8dd1fb4b",
   "metadata": {},
   "outputs": [
    {
     "name": "stdout",
     "output_type": "stream",
     "text": [
      "1\n",
      "3\n",
      "5\n",
      "7\n",
      "9\n"
     ]
    }
   ],
   "source": [
    "# Imprimindo os numeros impares da lista d numeros\n",
    "\n",
    "lista2 = [1,2,3,4,5,6,7,8,9,10]\n",
    "for num in lista2:        # p/ um item que esta nesta lista 2 \n",
    "    if num % 2 != 0:      # se esse num divido por 2 for diferente d zero (% -> modulo...5%2->1)\n",
    "        print(num)        # imprima esse numero"
   ]
  },
  {
   "cell_type": "code",
   "execution_count": 13,
   "id": "9fbd2662",
   "metadata": {},
   "outputs": [
    {
     "name": "stdout",
     "output_type": "stream",
     "text": [
      "0\n",
      "30\n",
      "60\n",
      "90\n"
     ]
    }
   ],
   "source": [
    "# Listando os numeros entre 0 e 101, com incremento em 30\n",
    "for i in range(0,101,30):\n",
    "    print(i)"
   ]
  },
  {
   "cell_type": "code",
   "execution_count": 16,
   "id": "8867a790",
   "metadata": {},
   "outputs": [
    {
     "name": "stdout",
     "output_type": "stream",
     "text": [
      "t\n",
      "e\n",
      "s\n",
      "t\n"
     ]
    }
   ],
   "source": [
    "# Strings tambem sao sequenciais\n",
    "for character in \"test\":\n",
    "    print(character)"
   ]
  }
 ],
 "metadata": {
  "kernelspec": {
   "display_name": "Python 3",
   "language": "python",
   "name": "python3"
  },
  "language_info": {
   "codemirror_mode": {
    "name": "ipython",
    "version": 3
   },
   "file_extension": ".py",
   "mimetype": "text/x-python",
   "name": "python",
   "nbconvert_exporter": "python",
   "pygments_lexer": "ipython3",
   "version": "3.8.8"
  }
 },
 "nbformat": 4,
 "nbformat_minor": 5
}
