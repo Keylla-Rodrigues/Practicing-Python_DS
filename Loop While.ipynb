{
 "cells": [
  {
   "cell_type": "markdown",
   "id": "5ffe292e",
   "metadata": {},
   "source": [
    "### Loop While"
   ]
  },
  {
   "cell_type": "code",
   "execution_count": 3,
   "id": "c835566f",
   "metadata": {},
   "outputs": [
    {
     "name": "stdout",
     "output_type": "stream",
     "text": [
      "0\n",
      "1\n",
      "2\n",
      "3\n",
      "4\n",
      "5\n",
      "6\n",
      "7\n",
      "8\n",
      "9\n"
     ]
    }
   ],
   "source": [
    "# Usando o loop while p/ imprimir os valores de 0 a 9\n",
    "\n",
    "counter = 0            # variavel counter q recebe o valor zero (inicia-se p valor zero)\n",
    "while counter < 10:    # enqto a variavel for menor que zero ele imprimira o counter\n",
    "    print(counter)\n",
    "    counter = counter + 1"
   ]
  },
  {
   "cell_type": "code",
   "execution_count": 5,
   "id": "49321bf7",
   "metadata": {},
   "outputs": [
    {
     "name": "stdout",
     "output_type": "stream",
     "text": [
      "O valor de x nesta iteracao/repeticao eh:  0\n",
      " x ainda eh menor que 10, somando 1 a x\n",
      "O valor de x nesta iteracao/repeticao eh:  1\n",
      " x ainda eh menor que 10, somando 1 a x\n",
      "O valor de x nesta iteracao/repeticao eh:  2\n",
      " x ainda eh menor que 10, somando 1 a x\n",
      "O valor de x nesta iteracao/repeticao eh:  3\n",
      " x ainda eh menor que 10, somando 1 a x\n",
      "O valor de x nesta iteracao/repeticao eh:  4\n",
      " x ainda eh menor que 10, somando 1 a x\n",
      "O valor de x nesta iteracao/repeticao eh:  5\n",
      " x ainda eh menor que 10, somando 1 a x\n",
      "O valor de x nesta iteracao/repeticao eh:  6\n",
      " x ainda eh menor que 10, somando 1 a x\n",
      "O valor de x nesta iteracao/repeticao eh:  7\n",
      " x ainda eh menor que 10, somando 1 a x\n",
      "O valor de x nesta iteracao/repeticao eh:  8\n",
      " x ainda eh menor que 10, somando 1 a x\n",
      "O valor de x nesta iteracao/repeticao eh:  9\n",
      " x ainda eh menor que 10, somando 1 a x\n",
      "Loop concluido\n"
     ]
    }
   ],
   "source": [
    "# Usando clausula esle p/ encerrar o loop while\n",
    "\n",
    "x = 0                                                      # iniciando por zero  \n",
    "while x < 10:                                              # enqto o valor for menor que 10,\n",
    "        print(\"O valor de x nesta iteracao/repeticao eh: \" , x)      # imprima, \n",
    "        print(\" x ainda eh menor que 10, somando 1 a x\")\n",
    "        x += 1                                             # some o valor de 1 \n",
    "\n",
    "        #Essa condicao acima eh verdadeira e enqto for, o codigo executara esse. CC o ele.       \n",
    "else:\n",
    "    print(\"Loop concluido\")                                "
   ]
  },
  {
   "cell_type": "markdown",
   "id": "b3dd6d5c",
   "metadata": {},
   "source": [
    "### Pass, Break, Continue "
   ]
  },
  {
   "cell_type": "code",
   "execution_count": 13,
   "id": "609e5bfa",
   "metadata": {},
   "outputs": [
    {
     "name": "stdout",
     "output_type": "stream",
     "text": [
      "0\n",
      "1\n",
      "2\n",
      "3\n"
     ]
    }
   ],
   "source": [
    "counter = 0\n",
    "while counter < 100:\n",
    "    if counter == 4:\n",
    "        break\n",
    "    else:\n",
    "        pass\n",
    "    print(counter)\n",
    "    counter = counter + 1  #Segue nesse ciclo. limitacao. Checa se o valor for menor q 100 e para\n",
    "    \n",
    "# Iniciando pelo zero, enqto o # for menor que 100 executa o \"if\": se o # for igual a 4 pare ou cc ele pula "
   ]
  },
  {
   "cell_type": "code",
   "execution_count": 16,
   "id": "b97ce851",
   "metadata": {},
   "outputs": [
    {
     "name": "stdout",
     "output_type": "stream",
     "text": [
      "P\n",
      "y\n",
      "t\n",
      "o\n",
      "n\n",
      "d\n",
      "f\n",
      "g\n",
      "j\n"
     ]
    }
   ],
   "source": [
    "# Continue -> pular\n",
    "for verificador in \"Python\":\n",
    "    if verificador == \"h\":\n",
    "        continue\n",
    "    print(verificador)\n",
    "    \n",
    "# faz repeticao e pula para proxima. Verifica se na sequencia de letras da palavra Python tem \"h\". \n",
    "# Se tiver pulara e continuara imprimindo ate fechar a string.  "
   ]
  },
  {
   "cell_type": "markdown",
   "id": "b9ad142b",
   "metadata": {},
   "source": [
    "### While e For juntos"
   ]
  },
  {
   "cell_type": "code",
   "execution_count": null,
   "id": "328a5887",
   "metadata": {},
   "outputs": [],
   "source": [
    "for i in range(2, 30):\n",
    "    j = 2\n",
    "    counter = 0\n",
    "    while j < i:\n",
    "        if i % j == 0:\n",
    "            counter = 1\n",
    "            j = j + 1\n",
    "        else:\n",
    "            j = j + 1\n",
    "            \n",
    "    if counter == 0:\n",
    "        print(str(i) + \" eh um numero primo\")\n",
    "        counter = 0\n",
    "    else:\n",
    "        counter = 0\n",
    "        \n",
    "# Entre os numeros de 2 ate 29, criei 2 variaveis j e counter (iniciando pelo zero). Enqto o J for menor q i\n",
    "# faco outra verificacao: se o i dividido por j eh igual a zero, o counter sera igual a 1 e o j sera igual ao j +1.\n",
    "# se nao, o j sera j + 1.\n",
    "\n",
    "# Ai no 2o if -> faco uma 2nd checagem. se o counter for igual a zero, imprimira.\n",
    "# Sao varios loops e dentro de cada loop faz a condicional if.\n",
    "            "
   ]
  }
 ],
 "metadata": {
  "kernelspec": {
   "display_name": "Python 3",
   "language": "python",
   "name": "python3"
  },
  "language_info": {
   "codemirror_mode": {
    "name": "ipython",
    "version": 3
   },
   "file_extension": ".py",
   "mimetype": "text/x-python",
   "name": "python",
   "nbconvert_exporter": "python",
   "pygments_lexer": "ipython3",
   "version": "3.8.8"
  }
 },
 "nbformat": 4,
 "nbformat_minor": 5
}
