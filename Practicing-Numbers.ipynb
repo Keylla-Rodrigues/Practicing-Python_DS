{
 "cells": [
  {
   "cell_type": "markdown",
   "id": "782ed398",
   "metadata": {},
   "source": [
    "### Numeros e operacoes matematicas"
   ]
  },
  {
   "cell_type": "code",
   "execution_count": 1,
   "id": "3f7d42a4",
   "metadata": {},
   "outputs": [
    {
     "data": {
      "text/plain": [
       "8"
      ]
     },
     "execution_count": 1,
     "metadata": {},
     "output_type": "execute_result"
    }
   ],
   "source": [
    "# soma\n",
    "4 + 4"
   ]
  },
  {
   "cell_type": "code",
   "execution_count": 2,
   "id": "6b9056a8",
   "metadata": {},
   "outputs": [
    {
     "data": {
      "text/plain": [
       "1"
      ]
     },
     "execution_count": 2,
     "metadata": {},
     "output_type": "execute_result"
    }
   ],
   "source": [
    "# subtracao\n",
    "4 - 3"
   ]
  },
  {
   "cell_type": "code",
   "execution_count": 3,
   "id": "615fc8cb",
   "metadata": {},
   "outputs": [
    {
     "data": {
      "text/plain": [
       "12"
      ]
     },
     "execution_count": 3,
     "metadata": {},
     "output_type": "execute_result"
    }
   ],
   "source": [
    "# multiplicacao\n",
    "4 * 3"
   ]
  },
  {
   "cell_type": "code",
   "execution_count": 4,
   "id": "5c3f146d",
   "metadata": {},
   "outputs": [
    {
     "data": {
      "text/plain": [
       "1.5"
      ]
     },
     "execution_count": 4,
     "metadata": {},
     "output_type": "execute_result"
    }
   ],
   "source": [
    "# divisao -> devolve resultado um numero float\n",
    "3 / 2"
   ]
  },
  {
   "cell_type": "code",
   "execution_count": 6,
   "id": "8b8fe0af",
   "metadata": {},
   "outputs": [
    {
     "data": {
      "text/plain": [
       "16"
      ]
     },
     "execution_count": 6,
     "metadata": {},
     "output_type": "execute_result"
    }
   ],
   "source": [
    "# potencia\n",
    "4 ** 2"
   ]
  },
  {
   "cell_type": "code",
   "execution_count": 7,
   "id": "c1d2c96e",
   "metadata": {},
   "outputs": [
    {
     "data": {
      "text/plain": [
       "1"
      ]
     },
     "execution_count": 7,
     "metadata": {},
     "output_type": "execute_result"
    }
   ],
   "source": [
    "#modulo\n",
    "10 % 3"
   ]
  },
  {
   "cell_type": "markdown",
   "id": "fbd3e948",
   "metadata": {},
   "source": [
    "### Funcao type -> define o tipo de variavel"
   ]
  },
  {
   "cell_type": "code",
   "execution_count": 8,
   "id": "c4ca9411",
   "metadata": {},
   "outputs": [
    {
     "data": {
      "text/plain": [
       "int"
      ]
     },
     "execution_count": 8,
     "metadata": {},
     "output_type": "execute_result"
    }
   ],
   "source": [
    "type(12)"
   ]
  },
  {
   "cell_type": "code",
   "execution_count": 9,
   "id": "be15c0ba",
   "metadata": {},
   "outputs": [
    {
     "data": {
      "text/plain": [
       "float"
      ]
     },
     "execution_count": 9,
     "metadata": {},
     "output_type": "execute_result"
    }
   ],
   "source": [
    "type(12.0)"
   ]
  },
  {
   "cell_type": "code",
   "execution_count": 11,
   "id": "84e8a441",
   "metadata": {},
   "outputs": [
    {
     "data": {
      "text/plain": [
       "str"
      ]
     },
     "execution_count": 11,
     "metadata": {},
     "output_type": "execute_result"
    }
   ],
   "source": [
    "s = \"It's a string\"\n",
    "type (s)"
   ]
  },
  {
   "cell_type": "markdown",
   "id": "848df4ca",
   "metadata": {},
   "source": [
    "###  Operacoes com numeros do tipo float"
   ]
  },
  {
   "cell_type": "code",
   "execution_count": 12,
   "id": "6572bfac",
   "metadata": {},
   "outputs": [
    {
     "data": {
      "text/plain": [
       "22.5"
      ]
     },
     "execution_count": 12,
     "metadata": {},
     "output_type": "execute_result"
    }
   ],
   "source": [
    "10.1 + 12.4  # soma de 2 numeros floats"
   ]
  },
  {
   "cell_type": "code",
   "execution_count": null,
   "id": "4b0e10b6",
   "metadata": {},
   "outputs": [],
   "source": [
    "16 + 16.0   # soma de inteiro e um float -> resultado eh float"
   ]
  },
  {
   "cell_type": "code",
   "execution_count": 13,
   "id": "05f76b4d",
   "metadata": {},
   "outputs": [
    {
     "data": {
      "text/plain": [
       "32"
      ]
     },
     "execution_count": 13,
     "metadata": {},
     "output_type": "execute_result"
    }
   ],
   "source": [
    "16 + 16    # soma de 2 inteiros -> resultado eh inteiro"
   ]
  },
  {
   "cell_type": "code",
   "execution_count": 14,
   "id": "45208156",
   "metadata": {},
   "outputs": [
    {
     "data": {
      "text/plain": [
       "2.0"
      ]
     },
     "execution_count": 14,
     "metadata": {},
     "output_type": "execute_result"
    }
   ],
   "source": [
    "4 / 2  # divisao de um inteiro por outro inteiro -> resultado eh tipo float (padrao do Python)"
   ]
  },
  {
   "cell_type": "code",
   "execution_count": 15,
   "id": "5e60cb09",
   "metadata": {},
   "outputs": [
    {
     "data": {
      "text/plain": [
       "2"
      ]
     },
     "execution_count": 15,
     "metadata": {},
     "output_type": "execute_result"
    }
   ],
   "source": [
    "4 // 2  # 2 barras gera resultado do tipo inteiro"
   ]
  },
  {
   "cell_type": "code",
   "execution_count": 19,
   "id": "577679fe",
   "metadata": {},
   "outputs": [
    {
     "data": {
      "text/plain": [
       "1.3333333333333333"
      ]
     },
     "execution_count": 19,
     "metadata": {},
     "output_type": "execute_result"
    }
   ],
   "source": [
    "4 / 3"
   ]
  },
  {
   "cell_type": "code",
   "execution_count": 20,
   "id": "f1ba4aaf",
   "metadata": {},
   "outputs": [
    {
     "data": {
      "text/plain": [
       "1"
      ]
     },
     "execution_count": 20,
     "metadata": {},
     "output_type": "execute_result"
    }
   ],
   "source": [
    "4 // 3"
   ]
  },
  {
   "cell_type": "code",
   "execution_count": 21,
   "id": "71d025f4",
   "metadata": {},
   "outputs": [
    {
     "data": {
      "text/plain": [
       "8.0"
      ]
     },
     "execution_count": 21,
     "metadata": {},
     "output_type": "execute_result"
    }
   ],
   "source": [
    "16 // 2.0"
   ]
  },
  {
   "cell_type": "markdown",
   "id": "300c26e1",
   "metadata": {},
   "source": [
    "###  Conversao"
   ]
  },
  {
   "cell_type": "code",
   "execution_count": 22,
   "id": "db393948",
   "metadata": {},
   "outputs": [
    {
     "data": {
      "text/plain": [
       "18.0"
      ]
     },
     "execution_count": 22,
     "metadata": {},
     "output_type": "execute_result"
    }
   ],
   "source": [
    "float (18)"
   ]
  },
  {
   "cell_type": "code",
   "execution_count": 23,
   "id": "1ac684f8",
   "metadata": {},
   "outputs": [
    {
     "data": {
      "text/plain": [
       "18"
      ]
     },
     "execution_count": 23,
     "metadata": {},
     "output_type": "execute_result"
    }
   ],
   "source": [
    "int(18.0) # coleta a parte inteira do valor"
   ]
  },
  {
   "cell_type": "code",
   "execution_count": 24,
   "id": "ff1795cc",
   "metadata": {},
   "outputs": [
    {
     "data": {
      "text/plain": [
       "18"
      ]
     },
     "execution_count": 24,
     "metadata": {},
     "output_type": "execute_result"
    }
   ],
   "source": [
    "int(18.5)   # coleta a parte inteira do valor. Por isso o resultado eh = 18"
   ]
  },
  {
   "cell_type": "markdown",
   "id": "a6271e9c",
   "metadata": {},
   "source": [
    "###  Hexadecimal e binario"
   ]
  },
  {
   "cell_type": "code",
   "execution_count": 27,
   "id": "179eb894",
   "metadata": {},
   "outputs": [
    {
     "data": {
      "text/plain": [
       "'0x18a'"
      ]
     },
     "execution_count": 27,
     "metadata": {},
     "output_type": "execute_result"
    }
   ],
   "source": [
    "hex(394)"
   ]
  },
  {
   "cell_type": "code",
   "execution_count": 28,
   "id": "562660bd",
   "metadata": {},
   "outputs": [
    {
     "data": {
      "text/plain": [
       "'0xd9'"
      ]
     },
     "execution_count": 28,
     "metadata": {},
     "output_type": "execute_result"
    }
   ],
   "source": [
    "hex(217)\n"
   ]
  },
  {
   "cell_type": "code",
   "execution_count": 29,
   "id": "b6307bda",
   "metadata": {},
   "outputs": [
    {
     "data": {
      "text/plain": [
       "'0b100011110'"
      ]
     },
     "execution_count": 29,
     "metadata": {},
     "output_type": "execute_result"
    }
   ],
   "source": [
    "bin(286)"
   ]
  },
  {
   "cell_type": "code",
   "execution_count": 30,
   "id": "d6a5275a",
   "metadata": {},
   "outputs": [
    {
     "data": {
      "text/plain": [
       "'0b110000110'"
      ]
     },
     "execution_count": 30,
     "metadata": {},
     "output_type": "execute_result"
    }
   ],
   "source": [
    "bin(390)"
   ]
  },
  {
   "cell_type": "markdown",
   "id": "859dec6e",
   "metadata": {},
   "source": [
    "###  Funcoes abs, round and pow"
   ]
  },
  {
   "cell_type": "code",
   "execution_count": null,
   "id": "9d3d0196",
   "metadata": {},
   "outputs": [],
   "source": [
    "abs(-20)   # retorna o valor absoluto"
   ]
  },
  {
   "cell_type": "code",
   "execution_count": null,
   "id": "ba842e48",
   "metadata": {},
   "outputs": [],
   "source": [
    "abs(20)   # retorna o valor absoluto"
   ]
  },
  {
   "cell_type": "code",
   "execution_count": 31,
   "id": "1d4d59e8",
   "metadata": {},
   "outputs": [
    {
     "data": {
      "text/plain": [
       "3.14"
      ]
     },
     "execution_count": 31,
     "metadata": {},
     "output_type": "execute_result"
    }
   ],
   "source": [
    "round(3.141519, 2)  # arredondara o numero com 2 casas decimais"
   ]
  },
  {
   "cell_type": "code",
   "execution_count": 32,
   "id": "a3ae045f",
   "metadata": {},
   "outputs": [
    {
     "data": {
      "text/plain": [
       "16"
      ]
     },
     "execution_count": 32,
     "metadata": {},
     "output_type": "execute_result"
    }
   ],
   "source": [
    "pow(4, 2)  # retorna a potencia"
   ]
  },
  {
   "cell_type": "code",
   "execution_count": 33,
   "id": "71f31688",
   "metadata": {},
   "outputs": [
    {
     "data": {
      "text/plain": [
       "125"
      ]
     },
     "execution_count": 33,
     "metadata": {},
     "output_type": "execute_result"
    }
   ],
   "source": [
    "pow(5, 3)"
   ]
  }
 ],
 "metadata": {
  "kernelspec": {
   "display_name": "Python 3",
   "language": "python",
   "name": "python3"
  },
  "language_info": {
   "codemirror_mode": {
    "name": "ipython",
    "version": 3
   },
   "file_extension": ".py",
   "mimetype": "text/x-python",
   "name": "python",
   "nbconvert_exporter": "python",
   "pygments_lexer": "ipython3",
   "version": "3.8.8"
  }
 },
 "nbformat": 4,
 "nbformat_minor": 5
}
