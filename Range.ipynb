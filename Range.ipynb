{
 "cells": [
  {
   "cell_type": "markdown",
   "id": "cffc0d38",
   "metadata": {},
   "source": [
    "### Range"
   ]
  },
  {
   "cell_type": "code",
   "execution_count": 4,
   "id": "f1b36a47",
   "metadata": {},
   "outputs": [
    {
     "name": "stdout",
     "output_type": "stream",
     "text": [
      "50\n",
      "54\n",
      "58\n",
      "62\n",
      "66\n",
      "70\n",
      "74\n",
      "78\n",
      "82\n",
      "86\n",
      "90\n",
      "94\n",
      "98\n"
     ]
    }
   ],
   "source": [
    "# Imprimindo numeros pares entre 50 e 100\n",
    "for i in range (50, 101, 4):\n",
    "    print(i)\n",
    "    \n",
    "# iniciando por 50 ate 100 (o 101 eh excludente) trazidos de 4 em 4"
   ]
  },
  {
   "cell_type": "code",
   "execution_count": 6,
   "id": "cb4cde9d",
   "metadata": {},
   "outputs": [
    {
     "name": "stdout",
     "output_type": "stream",
     "text": [
      "3\n",
      "4\n",
      "5\n"
     ]
    }
   ],
   "source": [
    "for i in range (3, 6):\n",
    "    print(i)\n",
    "    \n",
    "# imprimira da lista 3-6 (excluindo o 6)"
   ]
  },
  {
   "cell_type": "code",
   "execution_count": 8,
   "id": "dbdde220",
   "metadata": {},
   "outputs": [
    {
     "name": "stdout",
     "output_type": "stream",
     "text": [
      "0\n",
      "-2\n",
      "-4\n",
      "-6\n",
      "-8\n",
      "-10\n",
      "-12\n",
      "-14\n",
      "-16\n",
      "-18\n"
     ]
    }
   ],
   "source": [
    "for i in range(0, -20, -2):\n",
    "    print(i)\n",
    "    \n",
    "# no range de 0 a -19 (exclui o -20), trazendo de 2 em 2\n",
    "# e o 19 n se encaixa na regra"
   ]
  },
  {
   "cell_type": "code",
   "execution_count": 10,
   "id": "c3f3129e",
   "metadata": {},
   "outputs": [
    {
     "name": "stdout",
     "output_type": "stream",
     "text": [
      "A\n",
      "B\n",
      "C\n",
      "D\n"
     ]
    }
   ],
   "source": [
    "lista = [\"A\", \"B\", \"C\", \"D\"]\n",
    "lista_size = len(lista)\n",
    "for i in range(0, lista_size):\n",
    "    print(lista[i])\n",
    "    \n",
    "# lista de string. Verifica o tamanho da lista.  "
   ]
  },
  {
   "cell_type": "code",
   "execution_count": 11,
   "id": "bd6b93f4",
   "metadata": {},
   "outputs": [
    {
     "data": {
      "text/plain": [
       "range"
      ]
     },
     "execution_count": 11,
     "metadata": {},
     "output_type": "execute_result"
    }
   ],
   "source": [
    "# Tudo em Python eh um objeto\n",
    "type(range(0,3))"
   ]
  }
 ],
 "metadata": {
  "kernelspec": {
   "display_name": "Python 3",
   "language": "python",
   "name": "python3"
  },
  "language_info": {
   "codemirror_mode": {
    "name": "ipython",
    "version": 3
   },
   "file_extension": ".py",
   "mimetype": "text/x-python",
   "name": "python",
   "nbconvert_exporter": "python",
   "pygments_lexer": "ipython3",
   "version": "3.8.8"
  }
 },
 "nbformat": 4,
 "nbformat_minor": 5
}
