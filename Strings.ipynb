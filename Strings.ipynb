{
 "cells": [
  {
   "cell_type": "markdown",
   "id": "84f1b5c8",
   "metadata": {},
   "source": [
    "### Criando e imprimindo uma string\n",
    "### String eh uma sequencia de characters"
   ]
  },
  {
   "cell_type": "code",
   "execution_count": 1,
   "id": "a2fed777",
   "metadata": {},
   "outputs": [
    {
     "data": {
      "text/plain": [
       "'String sempre entre aspas simples ou dupla'"
      ]
     },
     "execution_count": 1,
     "metadata": {},
     "output_type": "execute_result"
    }
   ],
   "source": [
    "# Criando uma frase ou unica palavra\n",
    "\n",
    "# \"testando\"\n",
    "\"String sempre entre aspas simples ou dupla\""
   ]
  },
  {
   "cell_type": "code",
   "execution_count": 2,
   "id": "03864fb9",
   "metadata": {},
   "outputs": [
    {
     "data": {
      "text/plain": [
       "'Testando strings em \"Python\"'"
      ]
     },
     "execution_count": 2,
     "metadata": {},
     "output_type": "execute_result"
    }
   ],
   "source": [
    "# Criando uma frase com algum caracter extra - ai as aspas tem que ser diferentes \n",
    "\n",
    "#\"Testando strings em 'Python'\"\n",
    "'Testando strings em \"Python\"'"
   ]
  },
  {
   "cell_type": "code",
   "execution_count": 3,
   "id": "ebde7bb2",
   "metadata": {},
   "outputs": [
    {
     "name": "stdout",
     "output_type": "stream",
     "text": [
      "Testando strings em \"Python\"\n"
     ]
    }
   ],
   "source": [
    "# imprimindo uma string\n",
    "\n",
    "print('Testando strings em \"Python\"')"
   ]
  },
  {
   "cell_type": "code",
   "execution_count": 4,
   "id": "2bddf00a",
   "metadata": {},
   "outputs": [
    {
     "name": "stdout",
     "output_type": "stream",
     "text": [
      "Testando \n",
      " strings \n",
      " em \"Python\"\n"
     ]
    }
   ],
   "source": [
    "print('Testando \\n strings \\n em \"Python\"')   #\\n separa por espacos (ctrl enter)"
   ]
  },
  {
   "cell_type": "code",
   "execution_count": 5,
   "id": "2b026886",
   "metadata": {},
   "outputs": [
    {
     "name": "stdout",
     "output_type": "stream",
     "text": [
      "\n",
      "\n"
     ]
    }
   ],
   "source": [
    "print(\"\\n\")   # imprime gerando o espaco. O espaco eh um caracter"
   ]
  },
  {
   "cell_type": "markdown",
   "id": "63990546",
   "metadata": {},
   "source": [
    "### Indexando strings\n",
    "###### sempre comeca do zer e entre [ ]"
   ]
  },
  {
   "cell_type": "code",
   "execution_count": 6,
   "id": "6597d394",
   "metadata": {},
   "outputs": [],
   "source": [
    "# Atribuindo uma string\n",
    "\n",
    "s = \"Praticando Python\""
   ]
  },
  {
   "cell_type": "code",
   "execution_count": 7,
   "id": "d8915dfb",
   "metadata": {},
   "outputs": [
    {
     "name": "stdout",
     "output_type": "stream",
     "text": [
      "Praticando Python\n"
     ]
    }
   ],
   "source": [
    "print(s)"
   ]
  },
  {
   "cell_type": "code",
   "execution_count": 8,
   "id": "e9403317",
   "metadata": {},
   "outputs": [
    {
     "data": {
      "text/plain": [
       "'P'"
      ]
     },
     "execution_count": 8,
     "metadata": {},
     "output_type": "execute_result"
    }
   ],
   "source": [
    "# 1o elemento da string    #indexacao exige colchetes[]\n",
    "s[0]"
   ]
  },
  {
   "cell_type": "code",
   "execution_count": 9,
   "id": "11bd1fb6",
   "metadata": {},
   "outputs": [
    {
     "data": {
      "text/plain": [
       "'a'"
      ]
     },
     "execution_count": 9,
     "metadata": {},
     "output_type": "execute_result"
    }
   ],
   "source": [
    "# 1o elemento da string    #indexacao exige colchetes[]\n",
    "s[6]"
   ]
  },
  {
   "cell_type": "markdown",
   "id": "ac8d20f1",
   "metadata": {},
   "source": [
    "### Usando    :     p/ executar um slicing que faz a leitura de tudo ate um ponto especifico."
   ]
  },
  {
   "cell_type": "code",
   "execution_count": 10,
   "id": "8739f974",
   "metadata": {},
   "outputs": [
    {
     "data": {
      "text/plain": [
       "'ticando Python'"
      ]
     },
     "execution_count": 10,
     "metadata": {},
     "output_type": "execute_result"
    }
   ],
   "source": [
    "# Retorna todos os elementos da string, comecando pela posicao ate o fim da string.\n",
    "#s = \"Praticando Python\"\n",
    "\n",
    "s[3:]"
   ]
  },
  {
   "cell_type": "code",
   "execution_count": 11,
   "id": "81967342",
   "metadata": {},
   "outputs": [
    {
     "data": {
      "text/plain": [
       "'Praticando Python'"
      ]
     },
     "execution_count": 11,
     "metadata": {},
     "output_type": "execute_result"
    }
   ],
   "source": [
    "# A string original permanece inalterada\n",
    "s"
   ]
  },
  {
   "cell_type": "code",
   "execution_count": 12,
   "id": "80a12f62",
   "metadata": {},
   "outputs": [
    {
     "data": {
      "text/plain": [
       "'Pra'"
      ]
     },
     "execution_count": 12,
     "metadata": {},
     "output_type": "execute_result"
    }
   ],
   "source": [
    "#Retorna tudo ate a posicao 3\n",
    "s[:3]"
   ]
  },
  {
   "cell_type": "code",
   "execution_count": 13,
   "id": "c8efdcf6",
   "metadata": {},
   "outputs": [
    {
     "data": {
      "text/plain": [
       "'Praticando Python'"
      ]
     },
     "execution_count": 13,
     "metadata": {},
     "output_type": "execute_result"
    }
   ],
   "source": [
    "#Retorna tudo\n",
    "s[:]"
   ]
  },
  {
   "cell_type": "code",
   "execution_count": 14,
   "id": "54795fb6",
   "metadata": {},
   "outputs": [
    {
     "data": {
      "text/plain": [
       "'n'"
      ]
     },
     "execution_count": 14,
     "metadata": {},
     "output_type": "execute_result"
    }
   ],
   "source": [
    "#Usando a indexacao negativa e ler de tras para frente\n",
    "s[-1]"
   ]
  },
  {
   "cell_type": "code",
   "execution_count": 15,
   "id": "f4d239bb",
   "metadata": {},
   "outputs": [
    {
     "data": {
      "text/plain": [
       "'Praticando Pytho'"
      ]
     },
     "execution_count": 15,
     "metadata": {},
     "output_type": "execute_result"
    }
   ],
   "source": [
    "#Retorna tudo, exceto a ultima letra.\n",
    "s[:-1]"
   ]
  },
  {
   "cell_type": "markdown",
   "id": "10dc802d",
   "metadata": {},
   "source": [
    "#### Usando 2vezes dois pontos -> maior criterio para fazer o fatiamento. Notacao de indice e fatiar a string em partes ####especificas (padrao = 1). "
   ]
  },
  {
   "cell_type": "code",
   "execution_count": 16,
   "id": "2dd744de",
   "metadata": {},
   "outputs": [
    {
     "data": {
      "text/plain": [
       "'Praticando Python'"
      ]
     },
     "execution_count": 16,
     "metadata": {},
     "output_type": "execute_result"
    }
   ],
   "source": [
    "s[::1]   #todos os caracteress saltando uma posicao"
   ]
  },
  {
   "cell_type": "code",
   "execution_count": 17,
   "id": "a54bc0f9",
   "metadata": {},
   "outputs": [
    {
     "data": {
      "text/plain": [
       "'Paiad yhn'"
      ]
     },
     "execution_count": 17,
     "metadata": {},
     "output_type": "execute_result"
    }
   ],
   "source": [
    "s[::2]   #todos os caracteress saltando uma 2 posicoes"
   ]
  },
  {
   "cell_type": "code",
   "execution_count": 18,
   "id": "d078a108",
   "metadata": {},
   "outputs": [
    {
     "data": {
      "text/plain": [
       "'nohtyP odnacitarP'"
      ]
     },
     "execution_count": 18,
     "metadata": {},
     "output_type": "execute_result"
    }
   ],
   "source": [
    "s[::-1]  # faz a mesma coisa so que de traz p/ frente"
   ]
  },
  {
   "cell_type": "markdown",
   "id": "8a7ecb65",
   "metadata": {},
   "source": [
    "### Propriedades de strings"
   ]
  },
  {
   "cell_type": "code",
   "execution_count": 19,
   "id": "5ee30fd2",
   "metadata": {},
   "outputs": [
    {
     "data": {
      "text/plain": [
       "'Praticando Python'"
      ]
     },
     "execution_count": 19,
     "metadata": {},
     "output_type": "execute_result"
    }
   ],
   "source": [
    "s   #imprimindo a string"
   ]
  },
  {
   "cell_type": "code",
   "execution_count": 20,
   "id": "3e59b0a1",
   "metadata": {},
   "outputs": [],
   "source": [
    "#Alterando um caracter\n",
    "#s[0] = \"z\"   #trocar a primeira letra (cujo indice eh o zero) para \"z\"\n",
    "\n",
    "# como n se pode alterar uma string por regra, dara o seguinte erro:\n",
    "\n",
    "#TypeError: 'str' object does not support item assignment\n"
   ]
  },
  {
   "cell_type": "code",
   "execution_count": 21,
   "id": "a9cc5a9f",
   "metadata": {},
   "outputs": [
    {
     "data": {
      "text/plain": [
       "'Praticando Python lhe permitira estar mais preparado para a vaga'"
      ]
     },
     "execution_count": 21,
     "metadata": {},
     "output_type": "execute_result"
    }
   ],
   "source": [
    "# concatenando string\n",
    "\n",
    "s + \" \" + \"lhe permitira estar mais preparado para a vaga\""
   ]
  },
  {
   "cell_type": "code",
   "execution_count": 22,
   "id": "fc654f90",
   "metadata": {},
   "outputs": [],
   "source": [
    "nova_string = s + \" \" + \"lhe permitira estar mais preparado para a vaga\"   #criei nova variavel q recebera essa frase cocnatenada"
   ]
  },
  {
   "cell_type": "code",
   "execution_count": 23,
   "id": "2d361bcb",
   "metadata": {},
   "outputs": [
    {
     "data": {
      "text/plain": [
       "'Praticando Python lhe permitira estar mais preparado para a vaga'"
      ]
     },
     "execution_count": 23,
     "metadata": {},
     "output_type": "execute_result"
    }
   ],
   "source": [
    "nova_string     #print novamente a variavel"
   ]
  },
  {
   "cell_type": "code",
   "execution_count": 24,
   "id": "58d05934",
   "metadata": {},
   "outputs": [],
   "source": [
    "# criando repeticao qdo se usa o simbolo de multiplicacao\n",
    "\n",
    "letra = \"a\""
   ]
  },
  {
   "cell_type": "code",
   "execution_count": 25,
   "id": "e658fe57",
   "metadata": {},
   "outputs": [
    {
     "data": {
      "text/plain": [
       "'aaaaaaaaaa'"
      ]
     },
     "execution_count": 25,
     "metadata": {},
     "output_type": "execute_result"
    }
   ],
   "source": [
    "letra * 10"
   ]
  },
  {
   "cell_type": "markdown",
   "id": "b589277d",
   "metadata": {},
   "source": [
    "### Funcoes Built-in Strings"
   ]
  },
  {
   "cell_type": "code",
   "execution_count": 26,
   "id": "63bce631",
   "metadata": {},
   "outputs": [
    {
     "data": {
      "text/plain": [
       "'Praticando Python lhe permitira estar mais preparado para a vaga'"
      ]
     },
     "execution_count": 26,
     "metadata": {},
     "output_type": "execute_result"
    }
   ],
   "source": [
    "nova_string\n"
   ]
  },
  {
   "cell_type": "code",
   "execution_count": 27,
   "id": "9ef7471b",
   "metadata": {},
   "outputs": [
    {
     "data": {
      "text/plain": [
       "'PRATICANDO PYTHON LHE PERMITIRA ESTAR MAIS PREPARADO PARA A VAGA'"
      ]
     },
     "execution_count": 27,
     "metadata": {},
     "output_type": "execute_result"
    }
   ],
   "source": [
    "# Upper case\n",
    "nova_string.upper()"
   ]
  },
  {
   "cell_type": "code",
   "execution_count": 28,
   "id": "940a98cd",
   "metadata": {},
   "outputs": [
    {
     "data": {
      "text/plain": [
       "'praticando python lhe permitira estar mais preparado para a vaga'"
      ]
     },
     "execution_count": 28,
     "metadata": {},
     "output_type": "execute_result"
    }
   ],
   "source": [
    "# Lower case\n",
    "nova_string.lower()"
   ]
  },
  {
   "cell_type": "code",
   "execution_count": 29,
   "id": "cc3aa609",
   "metadata": {},
   "outputs": [
    {
     "data": {
      "text/plain": [
       "['Praticando',\n",
       " 'Python',\n",
       " 'lhe',\n",
       " 'permitira',\n",
       " 'estar',\n",
       " 'mais',\n",
       " 'preparado',\n",
       " 'para',\n",
       " 'a',\n",
       " 'vaga']"
      ]
     },
     "execution_count": 29,
     "metadata": {},
     "output_type": "execute_result"
    }
   ],
   "source": [
    "# Dividir uma string por espacos em banco (padrao)\n",
    "nova_string.split()"
   ]
  },
  {
   "cell_type": "code",
   "execution_count": 30,
   "id": "3d600ac1",
   "metadata": {},
   "outputs": [
    {
     "data": {
      "text/plain": [
       "['Praticando P', 'thon lhe permitira estar mais preparado para a vaga']"
      ]
     },
     "execution_count": 30,
     "metadata": {},
     "output_type": "execute_result"
    }
   ],
   "source": [
    "# Dividir uma string por um elemento especifico\n",
    "nova_string.split(\"y\")"
   ]
  },
  {
   "cell_type": "markdown",
   "id": "555da6bf",
   "metadata": {},
   "source": [
    "### Funcoes Strings"
   ]
  },
  {
   "cell_type": "code",
   "execution_count": 31,
   "id": "5edda9fe",
   "metadata": {},
   "outputs": [],
   "source": [
    "string2 = \"python is a great programming language to start your programming jorney\""
   ]
  },
  {
   "cell_type": "code",
   "execution_count": 33,
   "id": "6c48c260",
   "metadata": {},
   "outputs": [
    {
     "data": {
      "text/plain": [
       "'Python is a great programming language to start your programming jorney'"
      ]
     },
     "execution_count": 33,
     "metadata": {},
     "output_type": "execute_result"
    }
   ],
   "source": [
    "string2.capitalize()  # transforma a 1a letra em maiuscula"
   ]
  },
  {
   "cell_type": "code",
   "execution_count": 41,
   "id": "358ebc0e",
   "metadata": {},
   "outputs": [
    {
     "data": {
      "text/plain": [
       "24"
      ]
     },
     "execution_count": 41,
     "metadata": {},
     "output_type": "execute_result"
    }
   ],
   "source": [
    "string2.find(\"m\")    # localiza em qual posicao o caracter aparece na string"
   ]
  },
  {
   "cell_type": "code",
   "execution_count": 34,
   "id": "ecfc77c6",
   "metadata": {},
   "outputs": [
    {
     "data": {
      "text/plain": [
       "7"
      ]
     },
     "execution_count": 34,
     "metadata": {},
     "output_type": "execute_result"
    }
   ],
   "source": [
    "string2.count(\"a\")   # conta qtas vezes a letra \"especificada\" aparece"
   ]
  },
  {
   "cell_type": "code",
   "execution_count": 35,
   "id": "bbba5c2e",
   "metadata": {},
   "outputs": [
    {
     "data": {
      "text/plain": [
       "True"
      ]
     },
     "execution_count": 35,
     "metadata": {},
     "output_type": "execute_result"
    }
   ],
   "source": [
    "string2.islower()  # verifica se a string tem caracter em minusculo"
   ]
  },
  {
   "cell_type": "code",
   "execution_count": 36,
   "id": "0e0e4a77",
   "metadata": {},
   "outputs": [
    {
     "data": {
      "text/plain": [
       "False"
      ]
     },
     "execution_count": 36,
     "metadata": {},
     "output_type": "execute_result"
    }
   ],
   "source": [
    "string2.isspace()   # verifica se a string tem espaco. Nesse caso eh falso pq tem mais coisas"
   ]
  },
  {
   "cell_type": "code",
   "execution_count": 46,
   "id": "81fa07d0",
   "metadata": {},
   "outputs": [
    {
     "data": {
      "text/plain": [
       "True"
      ]
     },
     "execution_count": 46,
     "metadata": {},
     "output_type": "execute_result"
    }
   ],
   "source": [
    "string2.endswith(\"y\")  # checa se a string termina com o caracter especificado"
   ]
  },
  {
   "cell_type": "markdown",
   "id": "3d606e1d",
   "metadata": {},
   "source": [
    "### Comparando Strings"
   ]
  },
  {
   "cell_type": "code",
   "execution_count": 43,
   "id": "81e9ab50",
   "metadata": {},
   "outputs": [
    {
     "name": "stdout",
     "output_type": "stream",
     "text": [
      "False\n"
     ]
    }
   ],
   "source": [
    "print(\"Python programming\" == \"Phyton programming\")"
   ]
  },
  {
   "cell_type": "code",
   "execution_count": 44,
   "id": "024c409b",
   "metadata": {},
   "outputs": [
    {
     "name": "stdout",
     "output_type": "stream",
     "text": [
      "True\n"
     ]
    }
   ],
   "source": [
    "print(\"Python programming\" == \"Python programming\")"
   ]
  }
 ],
 "metadata": {
  "kernelspec": {
   "display_name": "Python 3",
   "language": "python",
   "name": "python3"
  },
  "language_info": {
   "codemirror_mode": {
    "name": "ipython",
    "version": 3
   },
   "file_extension": ".py",
   "mimetype": "text/x-python",
   "name": "python",
   "nbconvert_exporter": "python",
   "pygments_lexer": "ipython3",
   "version": "3.8.8"
  }
 },
 "nbformat": 4,
 "nbformat_minor": 5
}
