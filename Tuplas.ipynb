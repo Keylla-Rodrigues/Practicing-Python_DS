{
 "cells": [
  {
   "cell_type": "markdown",
   "id": "8afd6618",
   "metadata": {},
   "source": [
    "### Tuplas (semelhante a listas, mas sao imutaveis. Ou seja, data q n devem ser alteradas). Isso garante      ### integridade dos dados.\n",
    "#### Como alterar uma tupla? Converte uma tupla p/ uma lista. Altera o item na lista e depois converte para tupla nvoamente.  \n",
    "#### Elementos podem ser strings, numericos, misto."
   ]
  },
  {
   "cell_type": "code",
   "execution_count": 1,
   "id": "5473dcc3",
   "metadata": {},
   "outputs": [],
   "source": [
    "# Criando uma tupla - > elementos misto (string, numeros)\n",
    "tupla = (\"Casa\", 10, \"Macaco\")"
   ]
  },
  {
   "cell_type": "code",
   "execution_count": 2,
   "id": "49cdffe5",
   "metadata": {},
   "outputs": [
    {
     "data": {
      "text/plain": [
       "('Casa', 10, 'Macaco')"
      ]
     },
     "execution_count": 2,
     "metadata": {},
     "output_type": "execute_result"
    }
   ],
   "source": [
    "tupla  # printing"
   ]
  },
  {
   "cell_type": "code",
   "execution_count": 3,
   "id": "505cc1c2",
   "metadata": {},
   "outputs": [
    {
     "ename": "AttributeError",
     "evalue": "'tuple' object has no attribute 'append'",
     "output_type": "error",
     "traceback": [
      "\u001b[1;31m---------------------------------------------------------------------------\u001b[0m",
      "\u001b[1;31mAttributeError\u001b[0m                            Traceback (most recent call last)",
      "\u001b[1;32m<ipython-input-3-2ed1b9f3d918>\u001b[0m in \u001b[0;36m<module>\u001b[1;34m\u001b[0m\n\u001b[0;32m      1\u001b[0m \u001b[1;31m# Tuplas nao suportam alteracao -> ex. append(). Gerara o erro: AttributeError: 'tuple' object has no attribute 'append'\u001b[0m\u001b[1;33m\u001b[0m\u001b[1;33m\u001b[0m\u001b[1;33m\u001b[0m\u001b[0m\n\u001b[1;32m----> 2\u001b[1;33m \u001b[0mtupla\u001b[0m\u001b[1;33m.\u001b[0m\u001b[0mappend\u001b[0m\u001b[1;33m(\u001b[0m\u001b[1;34m\"Hotel\"\u001b[0m\u001b[1;33m)\u001b[0m\u001b[1;33m\u001b[0m\u001b[1;33m\u001b[0m\u001b[0m\n\u001b[0m",
      "\u001b[1;31mAttributeError\u001b[0m: 'tuple' object has no attribute 'append'"
     ]
    }
   ],
   "source": [
    "# Tuplas nao suportam alteracao -> ex. append(). Gerara o erro: AttributeError: 'tuple' object has no attribute 'append'\n",
    "tupla.append(\"Hotel\")"
   ]
  },
  {
   "cell_type": "code",
   "execution_count": null,
   "id": "2b3c5f94",
   "metadata": {},
   "outputs": [],
   "source": [
    "# Tuplas nao suportam alteracao -> ex. del. um item. Gerara o erro: TypeError:'tuple' object does not support item deletion\n",
    "del tupla[\"Macaco\"]"
   ]
  },
  {
   "cell_type": "code",
   "execution_count": null,
   "id": "8b0e96bc",
   "metadata": {},
   "outputs": [],
   "source": [
    "# Tuplas podem ter um unico item\n",
    "tupla = (\"Macaco\")"
   ]
  },
  {
   "cell_type": "code",
   "execution_count": null,
   "id": "709c6197",
   "metadata": {},
   "outputs": [],
   "source": [
    "tupla"
   ]
  },
  {
   "cell_type": "code",
   "execution_count": null,
   "id": "2ab2a926",
   "metadata": {},
   "outputs": [],
   "source": [
    "# Retornando o item q corresponde ao indice zero = sera \"Casa\"\n",
    "tupla[0]"
   ]
  },
  {
   "cell_type": "code",
   "execution_count": null,
   "id": "cf58de08",
   "metadata": {},
   "outputs": [],
   "source": [
    "# Verificando o tamanho da tupla\n",
    "len(tupla)"
   ]
  },
  {
   "cell_type": "code",
   "execution_count": null,
   "id": "90c6b5eb",
   "metadata": {},
   "outputs": [],
   "source": [
    "# Slicing da tupla. Eh a mesma anotacao usada na lista. Pegara o item do indice 1 ate o final\n",
    "tupla[1:]"
   ]
  },
  {
   "cell_type": "code",
   "execution_count": null,
   "id": "d0208b42",
   "metadata": {},
   "outputs": [],
   "source": [
    "# Saber qual eh o indice de um dos items da tupla\n",
    "tupla.index(\"Casa\")"
   ]
  },
  {
   "cell_type": "code",
   "execution_count": null,
   "id": "dd27bae7",
   "metadata": {},
   "outputs": [],
   "source": [
    "# Tentando mudar o elemento q ocupa o indice 1 para 2 -> dara erro visto n ser possivel alterar uma tupla \"TypeError: 'tuple' object does not support item assignment\"\n",
    "tupla[1] = 21  # troca para 21 o elemento do indice 1"
   ]
  },
  {
   "cell_type": "code",
   "execution_count": null,
   "id": "48a640b3",
   "metadata": {},
   "outputs": [],
   "source": [
    "# Deletando a tupla \n",
    "del tupla"
   ]
  },
  {
   "cell_type": "code",
   "execution_count": null,
   "id": "74b7a2e7",
   "metadata": {},
   "outputs": [],
   "source": [
    "tupla"
   ]
  },
  {
   "cell_type": "code",
   "execution_count": 7,
   "id": "828861b4",
   "metadata": {},
   "outputs": [],
   "source": [
    "# Criando uma nova tupla\n",
    "tupla1 = (\"z\",\"b\",\"c\")"
   ]
  },
  {
   "cell_type": "code",
   "execution_count": 8,
   "id": "4f37bc86",
   "metadata": {},
   "outputs": [
    {
     "data": {
      "text/plain": [
       "('z', 'b', 'c')"
      ]
     },
     "execution_count": 8,
     "metadata": {},
     "output_type": "execute_result"
    }
   ],
   "source": [
    "tupla1"
   ]
  },
  {
   "cell_type": "code",
   "execution_count": 12,
   "id": "32aac90b",
   "metadata": {},
   "outputs": [
    {
     "ename": "TypeError",
     "evalue": "'tuple' object does not support item assignment",
     "output_type": "error",
     "traceback": [
      "\u001b[1;31m---------------------------------------------------------------------------\u001b[0m",
      "\u001b[1;31mTypeError\u001b[0m                                 Traceback (most recent call last)",
      "\u001b[1;32m<ipython-input-12-d4f7305d2f6f>\u001b[0m in \u001b[0;36m<module>\u001b[1;34m\u001b[0m\n\u001b[0;32m      1\u001b[0m \u001b[1;31m# Tupla na aceita atribuicao de item -> dara erro: TypeError: 'tuple' object does not support item assignment\u001b[0m\u001b[1;33m\u001b[0m\u001b[1;33m\u001b[0m\u001b[1;33m\u001b[0m\u001b[0m\n\u001b[1;32m----> 2\u001b[1;33m \u001b[0mtupla1\u001b[0m\u001b[1;33m[\u001b[0m\u001b[1;36m0\u001b[0m\u001b[1;33m]\u001b[0m\u001b[1;33m=\u001b[0m \u001b[1;34m\"D\"\u001b[0m\u001b[1;33m\u001b[0m\u001b[1;33m\u001b[0m\u001b[0m\n\u001b[0m",
      "\u001b[1;31mTypeError\u001b[0m: 'tuple' object does not support item assignment"
     ]
    }
   ],
   "source": [
    "# Tupla na aceita atribuicao de item -> dara erro: TypeError: 'tuple' object does not support item assignment\n",
    "tupla1[0]= \"D\""
   ]
  },
  {
   "cell_type": "code",
   "execution_count": 10,
   "id": "f62b76e7",
   "metadata": {},
   "outputs": [],
   "source": [
    "# Como alterar uma tupla se ela nao aceita alteracao? nao aceita atribuir um novo valor, etc.\n",
    "# Como alterar um elemento d uma tupla? Usando a fc list() p/ converter-la em lista\n",
    "lista_z = list(lista_z) -> ele cria uma nova variavel de list e coloca a tupla dentro dessa lista\n"
   ]
  },
  {
   "cell_type": "code",
   "execution_count": 14,
   "id": "3ddea3ae",
   "metadata": {},
   "outputs": [
    {
     "data": {
      "text/plain": [
       "[]"
      ]
     },
     "execution_count": 14,
     "metadata": {},
     "output_type": "execute_result"
    }
   ],
   "source": [
    "# Como alterar uma tupla? Converte uma tupla p/ uma lista. Altera o item na lista e depois converte para tupla novamente.  \n",
    "\n",
    "lista_z # agora a lista"
   ]
  }
 ],
 "metadata": {
  "kernelspec": {
   "display_name": "Python 3",
   "language": "python",
   "name": "python3"
  },
  "language_info": {
   "codemirror_mode": {
    "name": "ipython",
    "version": 3
   },
   "file_extension": ".py",
   "mimetype": "text/x-python",
   "name": "python",
   "nbconvert_exporter": "python",
   "pygments_lexer": "ipython3",
   "version": "3.8.8"
  }
 },
 "nbformat": 4,
 "nbformat_minor": 5
}
