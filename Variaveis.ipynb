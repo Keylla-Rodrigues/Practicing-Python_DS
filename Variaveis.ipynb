{
 "cells": [
  {
   "cell_type": "markdown",
   "id": "f544953c",
   "metadata": {},
   "source": [
    "### Variaveis e operadores"
   ]
  },
  {
   "cell_type": "code",
   "execution_count": null,
   "id": "0d4ff78e",
   "metadata": {},
   "outputs": [],
   "source": [
    "test = 1   # criada variavel chamada test q recebe o valor 1"
   ]
  },
  {
   "cell_type": "code",
   "execution_count": null,
   "id": "9dd229a4",
   "metadata": {},
   "outputs": [],
   "source": [
    "test       # imprima a variavel test"
   ]
  },
  {
   "cell_type": "code",
   "execution_count": null,
   "id": "0a49a878",
   "metadata": {},
   "outputs": [],
   "source": [
    "print(test)  # or display(test) -> ambas imprimirao a variavel test"
   ]
  },
  {
   "cell_type": "code",
   "execution_count": null,
   "id": "a811e7fd",
   "metadata": {},
   "outputs": [],
   "source": [
    "type(test)    # sber o tipo de varaivel -> nesse caso foi inteiro"
   ]
  },
  {
   "cell_type": "code",
   "execution_count": null,
   "id": "7a6ee660",
   "metadata": {},
   "outputs": [],
   "source": [
    "test_1 = 2.5"
   ]
  },
  {
   "cell_type": "code",
   "execution_count": null,
   "id": "a926cfa3",
   "metadata": {},
   "outputs": [],
   "source": [
    "type(test_1)"
   ]
  },
  {
   "cell_type": "markdown",
   "id": "3decb19d",
   "metadata": {},
   "source": [
    "### Declaracao multipla (requer atencao p/ evitar bugs)"
   ]
  },
  {
   "cell_type": "code",
   "execution_count": null,
   "id": "4f0b3127",
   "metadata": {},
   "outputs": [],
   "source": [
    "person_1, person_2, person_3 = \"Anna\", \"John\", \"Keylla\"  # declarada 3 pessoas distintas ao mesmo tempo"
   ]
  },
  {
   "cell_type": "code",
   "execution_count": null,
   "id": "4f7d5fe7",
   "metadata": {},
   "outputs": [],
   "source": [
    "person_1    "
   ]
  },
  {
   "cell_type": "code",
   "execution_count": null,
   "id": "414f8fee",
   "metadata": {},
   "outputs": [],
   "source": [
    "person_2"
   ]
  },
  {
   "cell_type": "code",
   "execution_count": 1,
   "id": "c511049c",
   "metadata": {},
   "outputs": [],
   "source": [
    "fruit_1 = fruit_2 = fruit_3 = \"Papaya\"       # declarada 3 variavies distintas recebendo a mesma respostaa ao mesmo tempo"
   ]
  },
  {
   "cell_type": "code",
   "execution_count": 3,
   "id": "02df786e",
   "metadata": {},
   "outputs": [
    {
     "data": {
      "text/plain": [
       "'Papaya'"
      ]
     },
     "execution_count": 3,
     "metadata": {},
     "output_type": "execute_result"
    }
   ],
   "source": [
    "fruit_1                                  # imprimindo a resposta da variavel fruit_1"
   ]
  },
  {
   "cell_type": "code",
   "execution_count": 4,
   "id": "9ffc43e9",
   "metadata": {},
   "outputs": [
    {
     "data": {
      "text/plain": [
       "'Papaya'"
      ]
     },
     "execution_count": 4,
     "metadata": {},
     "output_type": "execute_result"
    }
   ],
   "source": [
    "fruit_3"
   ]
  },
  {
   "cell_type": "markdown",
   "id": "7212bd4e",
   "metadata": {},
   "source": [
    "### Usando letras, numeros e underline (n comecar c/ #'s)"
   ]
  },
  {
   "cell_type": "code",
   "execution_count": 5,
   "id": "14732c21",
   "metadata": {},
   "outputs": [],
   "source": [
    "x1 = 100  # de acordo c/ o Python ha algumas regras. Algumas palavras reservadas n podem, variav.n pode comecar c # etc\n",
    "# elig, if, or, pass, raise, in, import, break, etc"
   ]
  },
  {
   "cell_type": "code",
   "execution_count": 6,
   "id": "7b9a1972",
   "metadata": {},
   "outputs": [
    {
     "data": {
      "text/plain": [
       "100"
      ]
     },
     "execution_count": 6,
     "metadata": {},
     "output_type": "execute_result"
    }
   ],
   "source": [
    "x1"
   ]
  },
  {
   "cell_type": "markdown",
   "id": "f2c38e90",
   "metadata": {},
   "source": [
    "### Variaveis atribuidas a outras variaveis e ordem dos operadores"
   ]
  },
  {
   "cell_type": "code",
   "execution_count": 8,
   "id": "5787603d",
   "metadata": {},
   "outputs": [],
   "source": [
    "largura = 20"
   ]
  },
  {
   "cell_type": "code",
   "execution_count": 9,
   "id": "84291673",
   "metadata": {},
   "outputs": [],
   "source": [
    "altura = 4"
   ]
  },
  {
   "cell_type": "code",
   "execution_count": 11,
   "id": "8a424431",
   "metadata": {},
   "outputs": [],
   "source": [
    "area = largura * altura"
   ]
  },
  {
   "cell_type": "code",
   "execution_count": 12,
   "id": "8d133d82",
   "metadata": {},
   "outputs": [
    {
     "data": {
      "text/plain": [
       "80"
      ]
     },
     "execution_count": 12,
     "metadata": {},
     "output_type": "execute_result"
    }
   ],
   "source": [
    "area"
   ]
  },
  {
   "cell_type": "code",
   "execution_count": 13,
   "id": "495aa7fe",
   "metadata": {},
   "outputs": [],
   "source": [
    "perimetro = 2 * largura + 2 * altura   # mostrando que a ORDEM dos operadores segue a mesma regra matematica "
   ]
  },
  {
   "cell_type": "code",
   "execution_count": 14,
   "id": "0913d99a",
   "metadata": {},
   "outputs": [
    {
     "data": {
      "text/plain": [
       "48"
      ]
     },
     "execution_count": 14,
     "metadata": {},
     "output_type": "execute_result"
    }
   ],
   "source": [
    "perimetro"
   ]
  },
  {
   "cell_type": "code",
   "execution_count": 15,
   "id": "0556b208",
   "metadata": {},
   "outputs": [],
   "source": [
    "perimetro = 2 * (largura + 2) * altura"
   ]
  },
  {
   "cell_type": "code",
   "execution_count": 16,
   "id": "9848ea03",
   "metadata": {},
   "outputs": [
    {
     "data": {
      "text/plain": [
       "176"
      ]
     },
     "execution_count": 16,
     "metadata": {},
     "output_type": "execute_result"
    }
   ],
   "source": [
    "perimetro"
   ]
  },
  {
   "cell_type": "markdown",
   "id": "e667659c",
   "metadata": {},
   "source": [
    "### Operacoes com variaveis"
   ]
  },
  {
   "cell_type": "code",
   "execution_count": 19,
   "id": "03ef5698",
   "metadata": {},
   "outputs": [],
   "source": [
    "age_1 = 40"
   ]
  },
  {
   "cell_type": "code",
   "execution_count": 26,
   "id": "b85a09e0",
   "metadata": {},
   "outputs": [],
   "source": [
    "age_2 = 20"
   ]
  },
  {
   "cell_type": "code",
   "execution_count": 34,
   "id": "c4d2ee80",
   "metadata": {},
   "outputs": [
    {
     "data": {
      "text/plain": [
       "60"
      ]
     },
     "execution_count": 34,
     "metadata": {},
     "output_type": "execute_result"
    }
   ],
   "source": [
    "age_1 + age_2"
   ]
  },
  {
   "cell_type": "code",
   "execution_count": 36,
   "id": "2db2973c",
   "metadata": {},
   "outputs": [
    {
     "data": {
      "text/plain": [
       "2"
      ]
     },
     "execution_count": 36,
     "metadata": {},
     "output_type": "execute_result"
    }
   ],
   "source": [
    "age_1 // age_2 "
   ]
  },
  {
   "cell_type": "code",
   "execution_count": 38,
   "id": "5cc65cc9",
   "metadata": {},
   "outputs": [
    {
     "data": {
      "text/plain": [
       "0"
      ]
     },
     "execution_count": 38,
     "metadata": {},
     "output_type": "execute_result"
    }
   ],
   "source": [
    "age_1 % age_2  # encontrar o resto da divisao de 1 pela outra"
   ]
  },
  {
   "cell_type": "markdown",
   "id": "97874bdd",
   "metadata": {},
   "source": [
    "### Concatenacao de variaveis"
   ]
  },
  {
   "cell_type": "code",
   "execution_count": 40,
   "id": "111096a3",
   "metadata": {},
   "outputs": [],
   "source": [
    "name = \"Keylla\"   # exemplo cocnatenacao de strings"
   ]
  },
  {
   "cell_type": "code",
   "execution_count": 41,
   "id": "3d627d91",
   "metadata": {},
   "outputs": [],
   "source": [
    "last_name = \"Rodrigues\""
   ]
  },
  {
   "cell_type": "code",
   "execution_count": 43,
   "id": "fe9582f5",
   "metadata": {},
   "outputs": [],
   "source": [
    "full_name = name + \" \" + last_name"
   ]
  },
  {
   "cell_type": "code",
   "execution_count": 44,
   "id": "7c20910d",
   "metadata": {},
   "outputs": [
    {
     "data": {
      "text/plain": [
       "'Keylla Rodrigues'"
      ]
     },
     "execution_count": 44,
     "metadata": {},
     "output_type": "execute_result"
    }
   ],
   "source": [
    "full_name"
   ]
  }
 ],
 "metadata": {
  "kernelspec": {
   "display_name": "Python 3",
   "language": "python",
   "name": "python3"
  },
  "language_info": {
   "codemirror_mode": {
    "name": "ipython",
    "version": 3
   },
   "file_extension": ".py",
   "mimetype": "text/x-python",
   "name": "python",
   "nbconvert_exporter": "python",
   "pygments_lexer": "ipython3",
   "version": "3.8.8"
  }
 },
 "nbformat": 4,
 "nbformat_minor": 5
}
